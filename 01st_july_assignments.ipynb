{
  "nbformat": 4,
  "nbformat_minor": 0,
  "metadata": {
    "colab": {
      "provenance": [],
      "authorship_tag": "ABX9TyPHLv/zwjlX42pABuA8cUsk",
      "include_colab_link": true
    },
    "kernelspec": {
      "name": "python3",
      "display_name": "Python 3"
    },
    "language_info": {
      "name": "python"
    }
  },
  "cells": [
    {
      "cell_type": "markdown",
      "metadata": {
        "id": "view-in-github",
        "colab_type": "text"
      },
      "source": [
        "<a href=\"https://colab.research.google.com/github/rsahani486/iNeuron/blob/main/01st_july_assignments.ipynb\" target=\"_parent\"><img src=\"https://colab.research.google.com/assets/colab-badge.svg\" alt=\"Open In Colab\"/></a>"
      ]
    },
    {
      "cell_type": "markdown",
      "source": [
        "1. What is the primary goal of Object-Oriented Programming (OOP)?"
      ],
      "metadata": {
        "id": "RI5yVJh6pV7Q"
      }
    },
    {
      "cell_type": "markdown",
      "source": [
        "The primary goal of Object-Oriented Programming (OOP) in Python, as well as in other programming languages, is to provide a way to structure and organize code in a manner that models real-world objects and their interactions."
      ],
      "metadata": {
        "id": "gkGNfCqGpYCJ"
      }
    },
    {
      "cell_type": "markdown",
      "source": [
        "The key goals of OOP in Python are:"
      ],
      "metadata": {
        "id": "fn72Qf9kvlmb"
      }
    },
    {
      "cell_type": "markdown",
      "source": [
        "* **Encapsulation**: OOP allows you to encapsulate data and methods within a class, hiding the internal details and providing a clear interface for interacting with objects. This promotes data integrity and code reusability.\n",
        "* **Abstraction**: OOP enables you to create abstract data types by defining classes that represent real-world entities or concepts. This abstraction helps manage complexity by focusing on essential characteristics and hiding unnecessary details.\n",
        "* **Inheritance**: OOP supports inheritance, allowing you to create new classes (derived classes) based on existing classes (base or parent classes). Inheritance promotes code reuse and facilitates the creation of specialized classes that inherit and extend the behavior of their parent classes.\n",
        "* **Polymorphism**: OOP provides polymorphism, which allows objects of different classes to be used interchangeably. Polymorphism enables the use of a common interface to work with objects of different types, making the code more flexible and extensible."
      ],
      "metadata": {
        "id": "KaSJN0ZkvoGW"
      }
    },
    {
      "cell_type": "markdown",
      "source": [
        "2. What is an object in Python?"
      ],
      "metadata": {
        "id": "P9E8AV6bwBwn"
      }
    },
    {
      "cell_type": "markdown",
      "source": [
        "In Python, an object is a fundamental concept of Object-Oriented Programming (OOP).\n",
        "\n",
        "An object is an instance of a class, and it represents a specific entity or concept with its own unique characteristics (attributes) and behaviors (methods)."
      ],
      "metadata": {
        "id": "qMBlO30fwcIs"
      }
    },
    {
      "cell_type": "markdown",
      "source": [
        "3. What is a class in Python?"
      ],
      "metadata": {
        "id": "v4wHzM5fwe8J"
      }
    },
    {
      "cell_type": "markdown",
      "source": [
        "In Python, a class is a blueprint or a template for creating objects.\n",
        "\n",
        "It is a fundamental concept of Object-Oriented Programming (OOP) that allows you to define the structure, attributes, and behaviors of objects."
      ],
      "metadata": {
        "id": "jbh9YkovwoKo"
      }
    },
    {
      "cell_type": "markdown",
      "source": [
        "A class serves as a blueprint that encapsulates related data (attributes) and functionality (methods) into a single unit.\n",
        "\n",
        "It defines the common properties and behaviors that objects of that class will possess. You can think of a class as a user-defined data type that represents a specific entity or concept."
      ],
      "metadata": {
        "id": "OmM683_Twz08"
      }
    },
    {
      "cell_type": "markdown",
      "source": [
        "4. What are attributes and methods in a class?"
      ],
      "metadata": {
        "id": "zRcBqAKJw6pY"
      }
    },
    {
      "cell_type": "markdown",
      "source": [
        "In Python classes, attributes and methods are key components that define the behavior and characteristics of objects created from the class."
      ],
      "metadata": {
        "id": "sfhQurouw_WJ"
      }
    },
    {
      "cell_type": "markdown",
      "source": [
        "**Attributes**:\n",
        "\n",
        "Attributes are variables associated with a class and its objects. They represent the data or state of the object. Each object of a class can have its own unique set of attribute values. Attributes are defined within the class and are accessed using the dot notation (object.attribute) on objects."
      ],
      "metadata": {
        "id": "kNmLGdL9xMB3"
      }
    },
    {
      "cell_type": "markdown",
      "source": [
        "**Methods**:\n",
        "\n",
        "Methods are functions defined within a class that define the behavior or actions that objects of the class can perform. They operate on the object's data (attributes) and provide functionality to manipulate or interact with the object. Methods are defined within the class and can be called using the dot notation (object.method())."
      ],
      "metadata": {
        "id": "NXLHsZXqxQqY"
      }
    },
    {
      "cell_type": "markdown",
      "source": [
        "5. What is the difference between class variables and instance variables in Python?"
      ],
      "metadata": {
        "id": "G9gwsIEXxhxD"
      }
    },
    {
      "cell_type": "markdown",
      "source": [
        "The main differences between class variables and instance variables are:"
      ],
      "metadata": {
        "id": "7-pWWM0dyFUh"
      }
    },
    {
      "cell_type": "markdown",
      "source": [
        "* Class variables are shared among all instances of a class, while instance variables are specific to each instance.\n",
        "\n",
        "* Class variables are defined outside instance methods, while instance variables are defined within instance methods or the constructor.\n",
        "\n",
        "* Class variables are accessed using the class name, while instance variables are accessed using the object name."
      ],
      "metadata": {
        "id": "EyDHpzlnyHwp"
      }
    },
    {
      "cell_type": "markdown",
      "source": [
        "6. What is the purpose of the self parameter in Python class methods?"
      ],
      "metadata": {
        "id": "Q3E7L3SCyP48"
      }
    },
    {
      "cell_type": "markdown",
      "source": [
        "In Python, the self parameter in class methods is a convention to refer to the instance (object) of the class itself.\n",
        "\n",
        "It is the first parameter of every instance method within a class, including the constructor (__init__).\n",
        "\n",
        "The purpose of the self parameter is to give access to the instance's attributes and methods within the method."
      ],
      "metadata": {
        "id": "DnbVnPqwycUC"
      }
    },
    {
      "cell_type": "markdown",
      "source": [
        "7. For a library management system, you have to design the \"Book\" class with OOP\n",
        "principles in mind. The “Book” class will have following attributes:\n",
        "\n",
        "a. title: Represents the title of the book.\n",
        "\n",
        "b. author: Represents the author(s) of the book.\n",
        "\n",
        "c. isbn: Represents the ISBN (International Standard Book Number) of the book.\n",
        "\n",
        "d. publication_year: Represents the year of publication of the book.\n",
        "\n",
        "e. available_copies: Represents the number of copies available for checkout.\n",
        "\n",
        "The class will also include the following methods:\n",
        "\n",
        "a. check_out(self): Decrements the available copies by one if there are copies\n",
        "available for checkout.\n",
        "\n",
        "b. return_book(self): Increments the available copies by one when a book is\n",
        "returned.\n",
        "\n",
        "c. display_book_info(self): Displays the information about the book, including its attributes and the number of available copies."
      ],
      "metadata": {
        "id": "06zqpKjKygRs"
      }
    },
    {
      "cell_type": "code",
      "source": [
        "class Book():\n",
        "    def __init__(self, title, author, isbn, publication_year, available_copies):\n",
        "        self.title = title\n",
        "        self.author = author\n",
        "        self.isbn = isbn\n",
        "        self.publication_year = publication_year\n",
        "        self.available_copies = available_copies\n",
        "\n",
        "    def chek_out(self):\n",
        "        if self.available_copies > 0:\n",
        "            self.available_copies -= 1\n",
        "            print(f\"{self.title} checked out successfully.\")\n",
        "        else:\n",
        "            print(f\"No copies of {self.title} are available for checkout.\")\n",
        "\n",
        "    def return_book(self):\n",
        "        self.available_copies += 1\n",
        "        print(f\"{self.title} returned successfully.\")\n",
        "\n",
        "    def display_book_info(self):\n",
        "        print(f\"Title is {self.title}\")\n",
        "        print(f\"Author is {self.author}\")\n",
        "        print(f\"ISBN number is {self.isbn}\")\n",
        "        print(f\"Publication year is {self.publication_year}\")\n",
        "        print(f\"Available number of copies {self.available_copies}\")"
      ],
      "metadata": {
        "id": "FHuUd0xQyuMV"
      },
      "execution_count": 1,
      "outputs": []
    },
    {
      "cell_type": "code",
      "source": [
        "b1 = Book(\"Jujtsu\", \"Hinomori\", 9783161484100, 2016, 4)\n",
        "b1.display_book_info()\n",
        "print()\n",
        "# Check out a copy of the book\n",
        "b1.chek_out()\n",
        "print(f\"Available number of copies {b1.available_copies}\")\n",
        "# Return the book\n",
        "b1.return_book()\n",
        "print(f\"Available number of copies {b1.available_copies}\")"
      ],
      "metadata": {
        "colab": {
          "base_uri": "https://localhost:8080/"
        },
        "id": "Y_8BMtZyy1Hx",
        "outputId": "2eedd744-6b01-4e1b-f5e3-aa83826a5f84"
      },
      "execution_count": 2,
      "outputs": [
        {
          "output_type": "stream",
          "name": "stdout",
          "text": [
            "Title is Jujtsu\n",
            "Author is Hinomori\n",
            "ISBN number is 9783161484100\n",
            "Publication year is 2016\n",
            "Available number of copies 4\n",
            "\n",
            "Jujtsu checked out successfully.\n",
            "Available number of copies 3\n",
            "Jujtsu returned successfully.\n",
            "Available number of copies 4\n"
          ]
        }
      ]
    },
    {
      "cell_type": "markdown",
      "source": [
        "8. For a ticket booking system, you have to design the \"Ticket\" class with OOP\n",
        "principles in mind. The “Ticket” class should have the following attributes:\n",
        "\n",
        "a. ticket_id: Represents the unique identifier for the ticket.\n",
        "\n",
        "b. event_name: Represents the name of the event.\n",
        "\n",
        "c. event_date: Represents the date of the event.\n",
        "\n",
        "d. venue: Represents the venue of the event.\n",
        "\n",
        "e. seat_number: Represents the seat number associated with the ticket.\n",
        "\n",
        "f. price: Represents the price of the ticket.\n",
        "\n",
        "g. is_reserved: Represents the reservation status of the ticket.\n",
        "\n",
        "The class also includes the following methods:\n",
        "\n",
        "a. reserve_ticket(self): Marks the ticket as reserved if it is not already reserved.\n",
        "\n",
        "b. cancel_reservation(self): Cancels the reservation of the ticket if it is already reserved.\n",
        "\n",
        "c. display_ticket_info(self): Displays the information about the ticket, including its attributes and reservation status."
      ],
      "metadata": {
        "id": "u2lMPEoNysJb"
      }
    },
    {
      "cell_type": "code",
      "source": [
        "class Ticket:\n",
        "    def __init__(self, ticket_id, event_name, event_date, venue, seat_number, price):\n",
        "        self.ticket_id = ticket_id\n",
        "        self.event_name = event_name\n",
        "        self.event_date = event_date\n",
        "        self.venue = venue\n",
        "        self.seat_number = seat_number\n",
        "        self.price = price\n",
        "        self.is_reserved = False\n",
        "\n",
        "    def reserve_ticket(self):\n",
        "        if not self.is_reserved:\n",
        "            self.is_reserved = True\n",
        "            print(\"Ticket reserved successfully.\")\n",
        "        else:\n",
        "            print(\"Ticket is already reserved.\")\n",
        "\n",
        "    def cancel_reservation(self):\n",
        "        if self.is_reserved:\n",
        "            self.is_reserved = False\n",
        "            print(\"Reservation canceled successfully.\")\n",
        "        else:\n",
        "            print(\"Ticket is not currently reserved.\")\n",
        "\n",
        "    def display_ticket_info(self):\n",
        "        print(f\"Ticket ID: {self.ticket_id}\")\n",
        "        print(f\"Event Name: {self.event_name}\")\n",
        "        print(f\"Event date: {self.event_date}\")\n",
        "        print(f\"Venue: {self.venue}\")\n",
        "        print(f\"Seat Number: {self.seat_number}\")\n",
        "        print(f\"Price: {self.price}\")\n",
        "        print(\"Reservation Status:\", \"Reserved\" if self.is_reserved else \"Not Reserved\")"
      ],
      "metadata": {
        "id": "VjW9MYa-zmIZ"
      },
      "execution_count": 3,
      "outputs": []
    },
    {
      "cell_type": "code",
      "source": [
        "t1 = Ticket(\"T213\", \"Marriage\", \"25-Aug-2023\", \"Suart\", \"S34\", 2500)\n",
        "t1.reserve_ticket()\n",
        "print()\n",
        "t1.cancel_reservation()\n",
        "print()\n",
        "t1.display_ticket_info()"
      ],
      "metadata": {
        "colab": {
          "base_uri": "https://localhost:8080/"
        },
        "id": "hM69PuXEzqec",
        "outputId": "badf161c-be30-4e95-df4f-7bb6296a966c"
      },
      "execution_count": 4,
      "outputs": [
        {
          "output_type": "stream",
          "name": "stdout",
          "text": [
            "Ticket reserved successfully.\n",
            "\n",
            "Reservation canceled successfully.\n",
            "\n",
            "Ticket ID: T213\n",
            "Event Name: Marriage\n",
            "Event date: 25-Aug-2023\n",
            "Venue: Suart\n",
            "Seat Number: S34\n",
            "Price: 2500\n",
            "Reservation Status: Not Reserved\n"
          ]
        }
      ]
    },
    {
      "cell_type": "markdown",
      "source": [
        "9. You are creating a shopping cart for an e-commerce website. Using OOP to model the \"ShoppingCart\" functionality the class should contain following attributes and methods:\n",
        "\n",
        "a. items: Represents the list of items in the shopping cart.\n",
        "\n",
        "The class also includes the following methods:\n",
        "\n",
        "a. add_item(self, item): Adds an item to the shopping cart by appending it to the list of items.\n",
        "\n",
        "b. remove_item(self, item): Removes an item from the shopping cart if it exists in the list.\n",
        "\n",
        "c. view_cart(self): Displays the items currently present in the shopping cart.\n",
        "\n",
        "d. clear_cart(self): Clears all items from the shopping cart by reassigning an\n",
        "empty list to the items attribute."
      ],
      "metadata": {
        "id": "cryBArx1zvKy"
      }
    },
    {
      "cell_type": "code",
      "source": [
        "class ShoppingCart:\n",
        "    def __init__(self):\n",
        "        self.items = []\n",
        "\n",
        "    def add_item(self, item):\n",
        "        self.items.append(item)\n",
        "        print(f\"{item} added to the shopping cart.\")\n",
        "\n",
        "    def remove_item(self, item):\n",
        "        if item in self.items:\n",
        "            self.items.remove(item)\n",
        "            print(f\"{item} removed from the shopping cart.\")\n",
        "        else:\n",
        "            print(f\"{item} not found in the shopping cart.\")\n",
        "\n",
        "    def view_cart(self):\n",
        "        if self.items:\n",
        "            print(\"Items in the shopping cart:\")\n",
        "            for item in self.items:\n",
        "                print(f\"- {item}\")\n",
        "        else:\n",
        "            print(\"The shopping cart is empty.\")\n",
        "\n",
        "    def clear_cart(self):\n",
        "        self.items = []\n",
        "        print(\"Shopping cart cleared.\")"
      ],
      "metadata": {
        "id": "QD-b2nyL0CWe"
      },
      "execution_count": 5,
      "outputs": []
    },
    {
      "cell_type": "code",
      "source": [
        "# Example usage\n",
        "cart = ShoppingCart()\n",
        "\n",
        "cart.add_item(\"Laptop\")\n",
        "cart.add_item(\"Headphones\")\n",
        "cart.add_item(\"Phone\")\n",
        "\n",
        "cart.view_cart()\n",
        "\n",
        "cart.remove_item(\"Headphones\")\n",
        "\n",
        "cart.view_cart()\n",
        "\n",
        "cart.clear_cart()\n",
        "\n",
        "cart.view_cart()\n"
      ],
      "metadata": {
        "colab": {
          "base_uri": "https://localhost:8080/"
        },
        "id": "7_7UaPLssu4n",
        "outputId": "cae975ba-7ad8-47e7-8ce2-5b5286a6d075"
      },
      "execution_count": 6,
      "outputs": [
        {
          "output_type": "stream",
          "name": "stdout",
          "text": [
            "Laptop added to the shopping cart.\n",
            "Headphones added to the shopping cart.\n",
            "Phone added to the shopping cart.\n",
            "Items in the shopping cart:\n",
            "- Laptop\n",
            "- Headphones\n",
            "- Phone\n",
            "Headphones removed from the shopping cart.\n",
            "Items in the shopping cart:\n",
            "- Laptop\n",
            "- Phone\n",
            "Shopping cart cleared.\n",
            "The shopping cart is empty.\n"
          ]
        }
      ]
    },
    {
      "cell_type": "markdown",
      "source": [
        "10. Imagine a school management system. You have to design the \"Student\" class using OOP concepts.The “Student” class has the following attributes:\n",
        "\n",
        "a. name: Represents the name of the student.\n",
        "\n",
        "b. age: Represents the age of the student.\n",
        "\n",
        "c. grade: Represents the grade or class of the student.\n",
        "\n",
        "d. student_id: Represents the unique identifier for the student.\n",
        "\n",
        "e. attendance: Represents the attendance record of the student.\n",
        "\n",
        "The class should also include the following methods:\n",
        "\n",
        "a. update_attendance(self, date, status): Updates the attendance record of the\n",
        "student for a given date with the provided status (e.g., present or absent).\n",
        "\n",
        "b. get_attendance(self): Returns the attendance record of the student.\n",
        "\n",
        "c. get_average_attendance(self): Calculates and returns the average\n",
        "attendance percentage of the student based on their attendance record."
      ],
      "metadata": {
        "id": "C9_kVMSns3mS"
      }
    },
    {
      "cell_type": "code",
      "source": [
        "class Student:\n",
        "    def __init__(self, name, age, grade, student_id):\n",
        "        self.name = name\n",
        "        self.age = age\n",
        "        self.grade = grade\n",
        "        self.student_id = student_id\n",
        "        self.attendance = {}\n",
        "\n",
        "    def update_attendance(self, date, status):\n",
        "        self.attendance[date] = status\n",
        "\n",
        "    def get_attendance(self):\n",
        "        return self.attendance\n",
        "\n",
        "    def get_average_attendance(self):\n",
        "        if not self.attendance:\n",
        "            return 0.0\n",
        "\n",
        "        total_days = len(self.attendance)\n",
        "        present_days = sum(status == 'present' for status in self.attendance.values())\n",
        "        average_attendance = round((present_days / total_days) * 100)\n",
        "        return average_attendance"
      ],
      "metadata": {
        "id": "yDFn2A8TtDFQ"
      },
      "execution_count": 7,
      "outputs": []
    },
    {
      "cell_type": "code",
      "source": [
        "# Example usage\n",
        "student1 = Student(\"Alice\", 15, \"10th\", \"STU123\")\n",
        "student2 = Student(\"Bob\", 16, \"11th\", \"STU456\")\n",
        "\n",
        "student1.update_attendance(\"2023-07-10\", \"present\")\n",
        "student1.update_attendance(\"2023-07-11\", \"absent\")\n",
        "student1.update_attendance(\"2023-07-12\", \"present\")\n",
        "\n",
        "student2.update_attendance(\"2023-07-10\", \"absent\")\n",
        "student2.update_attendance(\"2023-07-11\", \"present\")\n",
        "student2.update_attendance(\"2023-07-12\", \"present\")\n",
        "\n",
        "print(student1.get_attendance())\n",
        "print(student2.get_attendance())\n",
        "\n",
        "print(f\"Average attendance for {student1.name}: {student1.get_average_attendance()}%\")\n",
        "print(f\"Average attendance for {student2.name}: {student2.get_average_attendance()}%\")"
      ],
      "metadata": {
        "colab": {
          "base_uri": "https://localhost:8080/"
        },
        "id": "ahsUkcnTIOeU",
        "outputId": "f2506ce7-a8ad-434e-9bfc-ca29a0a27e87"
      },
      "execution_count": 8,
      "outputs": [
        {
          "output_type": "stream",
          "name": "stdout",
          "text": [
            "{'2023-07-10': 'present', '2023-07-11': 'absent', '2023-07-12': 'present'}\n",
            "{'2023-07-10': 'absent', '2023-07-11': 'present', '2023-07-12': 'present'}\n",
            "Average attendance for Alice: 67%\n",
            "Average attendance for Bob: 67%\n"
          ]
        }
      ]
    }
  ]
}