{
  "nbformat": 4,
  "nbformat_minor": 0,
  "metadata": {
    "colab": {
      "provenance": [],
      "authorship_tag": "ABX9TyNxZEDhGnfrvwOKJRbZj92L",
      "include_colab_link": true
    },
    "kernelspec": {
      "name": "python3",
      "display_name": "Python 3"
    },
    "language_info": {
      "name": "python"
    }
  },
  "cells": [
    {
      "cell_type": "markdown",
      "metadata": {
        "id": "view-in-github",
        "colab_type": "text"
      },
      "source": [
        "<a href=\"https://colab.research.google.com/github/rsahani486/iNeuron/blob/main/Assignment_4.ipynb\" target=\"_parent\"><img src=\"https://colab.research.google.com/assets/colab-badge.svg\" alt=\"Open In Colab\"/></a>"
      ]
    },
    {
      "cell_type": "markdown",
      "source": [
        "1. What exactly is []?"
      ],
      "metadata": {
        "id": "Pc7bE4l2fIcU"
      }
    },
    {
      "cell_type": "markdown",
      "source": [
        "In Python, [] is used to denote an empty list. A list is a mutable, ordered collection of elements enclosed in square brackets. It can contain elements of different data types such as integers, strings, or even other lists."
      ],
      "metadata": {
        "id": "22gvaEZlfrlA"
      }
    },
    {
      "cell_type": "markdown",
      "source": [
        "examples of lists in Python:"
      ],
      "metadata": {
        "id": "ccoxkTozfw99"
      }
    },
    {
      "cell_type": "code",
      "source": [
        "# Creating an empty list\n",
        "my_list = []\n",
        "\n",
        "# Adding elements to the list\n",
        "my_list.append(1)\n",
        "my_list.append('hello')\n",
        "my_list.append(3.14)\n",
        "\n",
        "# Accessing elements in the list\n",
        "print(my_list[0])  # Output: 1\n",
        "print(my_list[1])  # Output: hello\n",
        "print(my_list[2])  # Output: 3.14"
      ],
      "metadata": {
        "colab": {
          "base_uri": "https://localhost:8080/"
        },
        "id": "YHlztgJVftZe",
        "outputId": "32d4f79f-8a0b-416c-df27-85815968bb77"
      },
      "execution_count": 1,
      "outputs": [
        {
          "output_type": "stream",
          "name": "stdout",
          "text": [
            "1\n",
            "hello\n",
            "3.14\n"
          ]
        }
      ]
    },
    {
      "cell_type": "markdown",
      "source": [
        "2. In a list of values stored in a variable called spam, how would you assign the value &#39;hello&#39; as the\n",
        "third value? (Assume [2, 4, 6, 8, 10] are in spam.)"
      ],
      "metadata": {
        "id": "mOw6jq0ZgEkf"
      }
    },
    {
      "cell_type": "code",
      "source": [
        "spam =  [2, 4, 6, 8, 10]\n",
        "spam[2] = \"hello\"\n",
        "spam"
      ],
      "metadata": {
        "colab": {
          "base_uri": "https://localhost:8080/"
        },
        "id": "Vdikz3dkgKrr",
        "outputId": "d3b2d128-f627-4e69-f808-d22ed76e634a"
      },
      "execution_count": 2,
      "outputs": [
        {
          "output_type": "execute_result",
          "data": {
            "text/plain": [
              "[2, 4, 'hello', 8, 10]"
            ]
          },
          "metadata": {},
          "execution_count": 2
        }
      ]
    },
    {
      "cell_type": "markdown",
      "source": [
        "3. What is the value of spam[int(int(&#39;3&#39; * 2) / 11)]?"
      ],
      "metadata": {
        "id": "qMzA5ZGKgbll"
      }
    },
    {
      "cell_type": "code",
      "source": [
        "spam = ['a', 'b', 'c', 'd']\n",
        "spam = spam[int(int('3' * 2) / 11)]\n",
        "print(spam)"
      ],
      "metadata": {
        "colab": {
          "base_uri": "https://localhost:8080/"
        },
        "id": "58TA0rcTgW3e",
        "outputId": "d83cec8a-71bc-4392-df3e-12320be2824f"
      },
      "execution_count": 3,
      "outputs": [
        {
          "output_type": "stream",
          "name": "stdout",
          "text": [
            "d\n"
          ]
        }
      ]
    },
    {
      "cell_type": "markdown",
      "source": [
        "4. What is the value of spam[-1]?"
      ],
      "metadata": {
        "id": "SqoGw0hKhVxD"
      }
    },
    {
      "cell_type": "code",
      "source": [
        "spam = ['a', 'b', 'c', 'd']\n",
        "print(spam[-1])"
      ],
      "metadata": {
        "colab": {
          "base_uri": "https://localhost:8080/"
        },
        "id": "Z5xQw2lXhPiJ",
        "outputId": "86884f28-09df-4d93-ff6f-72912fc63103"
      },
      "execution_count": 4,
      "outputs": [
        {
          "output_type": "stream",
          "name": "stdout",
          "text": [
            "d\n"
          ]
        }
      ]
    },
    {
      "cell_type": "markdown",
      "source": [
        "5. What is the value of spam[:2]?"
      ],
      "metadata": {
        "id": "7Sa_ZURehfFD"
      }
    },
    {
      "cell_type": "code",
      "source": [
        "spam = ['a', 'b', 'c', 'd']\n",
        "print(spam[:2])"
      ],
      "metadata": {
        "colab": {
          "base_uri": "https://localhost:8080/"
        },
        "id": "YxleVDWOhbgK",
        "outputId": "260650b8-e0aa-414c-c7ff-f414b794e9e4"
      },
      "execution_count": 5,
      "outputs": [
        {
          "output_type": "stream",
          "name": "stdout",
          "text": [
            "['a', 'b']\n"
          ]
        }
      ]
    },
    {
      "cell_type": "markdown",
      "source": [
        "6. What is the value of bacon.index(&#39;cat&#39;)?"
      ],
      "metadata": {
        "id": "99MrvaKzhvGM"
      }
    },
    {
      "cell_type": "code",
      "source": [
        "bacon = [3.14, 'cat', 11, 'cat', True]\n",
        "print(bacon.index('cat'))"
      ],
      "metadata": {
        "colab": {
          "base_uri": "https://localhost:8080/"
        },
        "id": "YZ4X1skRhyLq",
        "outputId": "b7b12d59-db0b-495c-d69a-3efe5132361e"
      },
      "execution_count": 6,
      "outputs": [
        {
          "output_type": "stream",
          "name": "stdout",
          "text": [
            "1\n"
          ]
        }
      ]
    },
    {
      "cell_type": "markdown",
      "source": [
        "7. How does bacon.append(99) change the look of the list value in bacon?"
      ],
      "metadata": {
        "id": "Q1FlXdGwibJh"
      }
    },
    {
      "cell_type": "code",
      "source": [
        "bacon = [3.14, 'cat', 11, 'cat', True]\n",
        "bacon.append(99)\n",
        "print(bacon)\n"
      ],
      "metadata": {
        "colab": {
          "base_uri": "https://localhost:8080/"
        },
        "id": "VJWNGdYzh-8D",
        "outputId": "9e77340d-a316-47a4-a93c-361b721debce"
      },
      "execution_count": 7,
      "outputs": [
        {
          "output_type": "stream",
          "name": "stdout",
          "text": [
            "[3.14, 'cat', 11, 'cat', True, 99]\n"
          ]
        }
      ]
    },
    {
      "cell_type": "markdown",
      "source": [
        "8. How does bacon.remove(&#39;cat&#39;) change the look of the list in bacon?"
      ],
      "metadata": {
        "id": "gAUv5bCMipnN"
      }
    },
    {
      "cell_type": "code",
      "source": [
        "bacon = [3.14, 'cat', 11, 'cat', True]\n",
        "bacon.remove('cat')\n",
        "print(bacon)"
      ],
      "metadata": {
        "colab": {
          "base_uri": "https://localhost:8080/"
        },
        "id": "2oxjXW25ihSs",
        "outputId": "eb353e8f-45cb-4605-fe4a-8c2d3abf46b7"
      },
      "execution_count": 8,
      "outputs": [
        {
          "output_type": "stream",
          "name": "stdout",
          "text": [
            "[3.14, 11, 'cat', True]\n"
          ]
        }
      ]
    },
    {
      "cell_type": "markdown",
      "source": [
        "9. What are the list concatenation and list replication operators?"
      ],
      "metadata": {
        "id": "2NDHn6ZWi9Z-"
      }
    },
    {
      "cell_type": "markdown",
      "source": [
        "**list concatenation**"
      ],
      "metadata": {
        "id": "mP6XLDPTjqog"
      }
    },
    {
      "cell_type": "markdown",
      "source": [
        "In Python, the list concatenation operator is the plus symbol (+), and it is used to combine two or more lists into a single list."
      ],
      "metadata": {
        "id": "nuNrLgrWjpD1"
      }
    },
    {
      "cell_type": "code",
      "source": [
        "list1 = [1, 2, 3]\n",
        "list2 = [4, 5, 6]\n",
        "concatenated_list = list1 + list2\n",
        "print(concatenated_list)  # Output: [1, 2, 3, 4, 5, 6]"
      ],
      "metadata": {
        "colab": {
          "base_uri": "https://localhost:8080/"
        },
        "id": "QMlIHhFei6tD",
        "outputId": "768ad1be-4c36-482a-b81a-72f9f118811c"
      },
      "execution_count": 9,
      "outputs": [
        {
          "output_type": "stream",
          "name": "stdout",
          "text": [
            "[1, 2, 3, 4, 5, 6]\n"
          ]
        }
      ]
    },
    {
      "cell_type": "markdown",
      "source": [
        "**list replication**"
      ],
      "metadata": {
        "id": "GdbMyT_5j1Wh"
      }
    },
    {
      "cell_type": "markdown",
      "source": [
        "The list replication operator is the asterisk symbol (*), and it allows you to create a new list by repeating an existing list multiple times."
      ],
      "metadata": {
        "id": "WpF9JzmPj2yp"
      }
    },
    {
      "cell_type": "code",
      "source": [
        "original_list = [1, 2, 3]\n",
        "replicated_list = original_list * 3\n",
        "print(replicated_list)  # Output: [1, 2, 3, 1, 2, 3, 1, 2, 3]"
      ],
      "metadata": {
        "colab": {
          "base_uri": "https://localhost:8080/"
        },
        "id": "98BAIlSoj5W-",
        "outputId": "f8dd495d-3a13-49dc-bcd1-d7685b217266"
      },
      "execution_count": 10,
      "outputs": [
        {
          "output_type": "stream",
          "name": "stdout",
          "text": [
            "[1, 2, 3, 1, 2, 3, 1, 2, 3]\n"
          ]
        }
      ]
    },
    {
      "cell_type": "markdown",
      "source": [
        "10. What is difference between the list methods append() and insert()?"
      ],
      "metadata": {
        "id": "o9ZY7RjwkDk0"
      }
    },
    {
      "cell_type": "markdown",
      "source": [
        "**append()**"
      ],
      "metadata": {
        "id": "dVo7znGXkcy3"
      }
    },
    {
      "cell_type": "markdown",
      "source": [
        "It adds an element at the end of the list. The argument passed in the append function is added as a single element at end of the list and the length of the list is increased by 1."
      ],
      "metadata": {
        "id": "q25WR1LOkGhT"
      }
    },
    {
      "cell_type": "code",
      "source": [
        "list = [1,2,3,4,5]\n",
        "list.append(6)\n",
        "print(list) # [1,2,3,4,5,6]"
      ],
      "metadata": {
        "colab": {
          "base_uri": "https://localhost:8080/"
        },
        "id": "NsV1fe1NkBtG",
        "outputId": "f3f1d0eb-33ca-4ae9-d693-ecda3c116825"
      },
      "execution_count": 11,
      "outputs": [
        {
          "output_type": "stream",
          "name": "stdout",
          "text": [
            "[1, 2, 3, 4, 5, 6]\n"
          ]
        }
      ]
    },
    {
      "cell_type": "markdown",
      "source": [
        "**insert()**"
      ],
      "metadata": {
        "id": "yMM2AChRk3pF"
      }
    },
    {
      "cell_type": "markdown",
      "source": [
        "This method can be used to insert a value at any desired position. It takes two arguments-element and the index at which the element has to be inserted."
      ],
      "metadata": {
        "id": "flTXdDEPkxdO"
      }
    },
    {
      "cell_type": "code",
      "source": [
        "my_list = [1, 2, 3]\n",
        "my_list.insert(1, 4)\n",
        "print(my_list)  # Output: [1, 4, 2, 3]"
      ],
      "metadata": {
        "colab": {
          "base_uri": "https://localhost:8080/"
        },
        "id": "douA-1x0kq6U",
        "outputId": "5578a1bb-5e4c-4946-bb8b-d96112e99c5f"
      },
      "execution_count": 12,
      "outputs": [
        {
          "output_type": "stream",
          "name": "stdout",
          "text": [
            "[1, 4, 2, 3]\n"
          ]
        }
      ]
    },
    {
      "cell_type": "markdown",
      "source": [
        "11. What are the two methods for removing items from a list?"
      ],
      "metadata": {
        "id": "HIJ8qbcclJjs"
      }
    },
    {
      "cell_type": "markdown",
      "source": [
        "In Python, there are two commonly used methods for removing items from a list: remove() and pop()."
      ],
      "metadata": {
        "id": "LejwxErglKjc"
      }
    },
    {
      "cell_type": "markdown",
      "source": [
        "**The remove() method:**"
      ],
      "metadata": {
        "id": "vOsz0ddWlz0E"
      }
    },
    {
      "cell_type": "markdown",
      "source": [
        "The remove() method is used to remove the first occurrence of a specified value from the list. It takes a single argument, which is the value to be removed."
      ],
      "metadata": {
        "id": "KMhBbsU-l3ty"
      }
    },
    {
      "cell_type": "code",
      "source": [
        "my_list = [1, 2, 3, 2, 4]\n",
        "my_list.remove(2)\n",
        "print(my_list)  # Output: [1, 3, 2, 4]"
      ],
      "metadata": {
        "colab": {
          "base_uri": "https://localhost:8080/"
        },
        "id": "sIpMV3GXlBcf",
        "outputId": "fefc3259-edcf-4d6e-d6e4-6dd4059f2aac"
      },
      "execution_count": 13,
      "outputs": [
        {
          "output_type": "stream",
          "name": "stdout",
          "text": [
            "[1, 3, 2, 4]\n"
          ]
        }
      ]
    },
    {
      "cell_type": "markdown",
      "source": [
        "**The pop() method:**"
      ],
      "metadata": {
        "id": "pceICyugmGnV"
      }
    },
    {
      "cell_type": "markdown",
      "source": [
        "The pop() method is used to remove an item from a specific index in the list and return its value. It takes an optional index argument, which specifies the position of the item to be removed. If no index is provided, it removes and returns the last item in the list."
      ],
      "metadata": {
        "id": "E13jIkY2mIBO"
      }
    },
    {
      "cell_type": "code",
      "source": [
        "my_list = [1, 2, 3, 4]\n",
        "removed_item = my_list.pop(1)\n",
        "print(removed_item)  # Output: 2\n",
        "print(my_list)  # Output: [1, 3, 4]"
      ],
      "metadata": {
        "colab": {
          "base_uri": "https://localhost:8080/"
        },
        "id": "ioIKlSxil_Tg",
        "outputId": "7691c516-5045-49f7-809f-bedf81a0dd61"
      },
      "execution_count": 14,
      "outputs": [
        {
          "output_type": "stream",
          "name": "stdout",
          "text": [
            "2\n",
            "[1, 3, 4]\n"
          ]
        }
      ]
    },
    {
      "cell_type": "markdown",
      "source": [
        "12. Describe how list values and string values are identical."
      ],
      "metadata": {
        "id": "OoQqVv8EmW9A"
      }
    },
    {
      "cell_type": "markdown",
      "source": [
        "In Python, list values and string values share some similarities and characteristics, but they are distinct data types with different behaviors."
      ],
      "metadata": {
        "id": "tU6NyEYOmYUP"
      }
    },
    {
      "cell_type": "markdown",
      "source": [
        "* **Sequence Type**: Both lists and strings are sequence types, meaning they can contain multiple elements in a specific order."
      ],
      "metadata": {
        "id": "4hBQjY7Em-Tr"
      }
    },
    {
      "cell_type": "markdown",
      "source": [
        "* **Indexing**: Both lists and strings allow you to access individual elements by their index. Indexing starts at 0, so you can access the first element using index 0, the second element using index 1, and so on."
      ],
      "metadata": {
        "id": "zNKHGtdonBwC"
      }
    },
    {
      "cell_type": "markdown",
      "source": [
        "13. What&#39;s the difference between tuples and lists?"
      ],
      "metadata": {
        "id": "QWSIbUDPndIY"
      }
    },
    {
      "cell_type": "markdown",
      "source": [
        "In Python, tuples and lists are both used to store collections of elements, but they have several key differences:"
      ],
      "metadata": {
        "id": "TWbcqob4ng8R"
      }
    },
    {
      "cell_type": "markdown",
      "source": [
        "**Mutability**: The main difference between tuples and lists is their mutability. Tuples are immutable, meaning their elements cannot be modified once they are created. In contrast, lists are mutable, allowing for modification of their elements."
      ],
      "metadata": {
        "id": "UlBJTOxOoUxU"
      }
    },
    {
      "cell_type": "markdown",
      "source": [
        "**Syntax**: Tuples are defined using parentheses ( ), while lists are defined using square brackets [ ]."
      ],
      "metadata": {
        "id": "3Gz9iHNUoZ0o"
      }
    },
    {
      "cell_type": "markdown",
      "source": [
        "**Usage**: Tuples are commonly used to represent collections of related values that should not be modified, such as coordinates, database records, or multiple return values from a function. Lists, on the other hand, are more flexible and commonly used when you need to store and modify collections of items."
      ],
      "metadata": {
        "id": "VV6dRt81ogC4"
      }
    },
    {
      "cell_type": "markdown",
      "source": [
        "**Operations**: Lists offer more operations than tuples due to their mutability. With lists, you can add or remove elements, modify elements, concatenate lists, and more. Tuples, being immutable, have a limited set of operations available, such as indexing, slicing, and counting elements."
      ],
      "metadata": {
        "id": "jNsWmyJaokQK"
      }
    },
    {
      "cell_type": "markdown",
      "source": [
        "**Performance**: Tuples are generally more memory-efficient and slightly faster to process compared to lists. This is because tuples have a fixed size and structure, allowing the interpreter to optimize memory usage."
      ],
      "metadata": {
        "id": "U-u3ztqpouh_"
      }
    },
    {
      "cell_type": "markdown",
      "source": [
        "14. How do you type a tuple value that only contains the integer 42?"
      ],
      "metadata": {
        "id": "V2lq1sfmo843"
      }
    },
    {
      "cell_type": "code",
      "source": [
        "tup = (42, )\n",
        "print(tup)"
      ],
      "metadata": {
        "colab": {
          "base_uri": "https://localhost:8080/"
        },
        "id": "Tf60aRGhmR7h",
        "outputId": "b76f6f57-69f2-43c4-ec05-c86ebe27d2b3"
      },
      "execution_count": 15,
      "outputs": [
        {
          "output_type": "stream",
          "name": "stdout",
          "text": [
            "(42,)\n"
          ]
        }
      ]
    },
    {
      "cell_type": "markdown",
      "source": [
        "15. How do you get a list value&#39;s tuple form? How do you get a tuple value&#39;s list form?"
      ],
      "metadata": {
        "id": "z-ihNH-UpRhk"
      }
    },
    {
      "cell_type": "markdown",
      "source": [
        "**tuple form**"
      ],
      "metadata": {
        "id": "Jw9udLLvprds"
      }
    },
    {
      "cell_type": "markdown",
      "source": [
        "To convert a list value to its tuple form in Python, you can use the tuple() function."
      ],
      "metadata": {
        "id": "J_Gz9xLopSyE"
      }
    },
    {
      "cell_type": "code",
      "source": [
        "my_list = [1, 2, 3]\n",
        "tuple_form = tuple(my_list)\n",
        "print(tuple_form)  # Output: (1, 2, 3)"
      ],
      "metadata": {
        "colab": {
          "base_uri": "https://localhost:8080/"
        },
        "id": "BGlimPVApO0U",
        "outputId": "95224f8e-1c84-4fc5-db5f-fc0f34fc0e9c"
      },
      "execution_count": 16,
      "outputs": [
        {
          "output_type": "stream",
          "name": "stdout",
          "text": [
            "(1, 2, 3)\n"
          ]
        }
      ]
    },
    {
      "cell_type": "markdown",
      "source": [
        "**list form**"
      ],
      "metadata": {
        "id": "vcf4aE_xp795"
      }
    },
    {
      "cell_type": "markdown",
      "source": [
        "To convert a tuple value to its list form, you can use the list() function."
      ],
      "metadata": {
        "id": "NxEQiOatp5Jr"
      }
    },
    {
      "cell_type": "code",
      "source": [
        "my_tuple = (1, 2, 3)\n",
        "list_form = list(my_tuple)\n",
        "print(list_form)  # Output: [1, 2, 3]"
      ],
      "metadata": {
        "id": "qCcrkmB557rX"
      },
      "execution_count": null,
      "outputs": []
    },
    {
      "cell_type": "markdown",
      "source": [
        "16. Variables that &quot;contain&quot; list values are not necessarily lists themselves. Instead, what do they\n",
        "contain?"
      ],
      "metadata": {
        "id": "b-iqcUeNrQTH"
      }
    },
    {
      "cell_type": "markdown",
      "source": [
        "In Python, variables that \"contain\" list values do not directly contain the list itself. Instead, they contain references or pointers to the list object stored in memory."
      ],
      "metadata": {
        "id": "PQVWqKLjwmSC"
      }
    },
    {
      "cell_type": "markdown",
      "source": [
        "When you assign a list to a variable, the variable does not store the list's elements directly. It stores a reference to the memory location where the list object is stored. This reference allows you to access and manipulate the list through the variable."
      ],
      "metadata": {
        "id": "vc5hY6rcwndK"
      }
    },
    {
      "cell_type": "code",
      "source": [
        "my_list = [1, 2, 3]"
      ],
      "metadata": {
        "id": "I20hTcB9rUpg"
      },
      "execution_count": 19,
      "outputs": []
    },
    {
      "cell_type": "markdown",
      "source": [
        "In this example, the variable my_list does not actually contain the list [1, 2, 3] itself. It contains a reference or pointer to the memory location where the list object is stored."
      ],
      "metadata": {
        "id": "PA4Z2dOHxSzU"
      }
    },
    {
      "cell_type": "markdown",
      "source": [
        "17. How do you distinguish between copy.copy() and copy.deepcopy()?"
      ],
      "metadata": {
        "id": "oiJKmPQpxVKE"
      }
    },
    {
      "cell_type": "markdown",
      "source": [
        "In Python, the copy module provides two functions for creating copies of objects: copy() and deepcopy(). Both functions are used to create copies of objects, but they differ in their behavior when dealing with nested objects or objects with references.\n",
        "\n"
      ],
      "metadata": {
        "id": "5ndqGotCxbxp"
      }
    },
    {
      "cell_type": "markdown",
      "source": [
        "**copy.copy() (shallow copy):**"
      ],
      "metadata": {
        "id": "PlUHyAfY4izS"
      }
    },
    {
      "cell_type": "markdown",
      "source": [
        "* Shallow copy means that a new object is created, but the contents of the object are still references to the same underlying objects as the original."
      ],
      "metadata": {
        "id": "PkDBpQXa4npA"
      }
    },
    {
      "cell_type": "markdown",
      "source": [
        "* If the copied object contains mutable objects or references to other objects, changes made to the original object may be reflected in the copied object and vice versa."
      ],
      "metadata": {
        "id": "5YTDoUeE4vSZ"
      }
    },
    {
      "cell_type": "markdown",
      "source": [
        "Here's an example:"
      ],
      "metadata": {
        "id": "TIs1RaSo4zde"
      }
    },
    {
      "cell_type": "code",
      "source": [
        "import copy\n",
        "\n",
        "original_list = [1, 2, [3, 4]]\n",
        "copied_list = copy.copy(original_list)\n",
        "\n",
        "original_list[2].append(5)\n",
        "\n",
        "print(original_list)  # Output: [1, 2, [3, 4, 5]]\n",
        "print(copied_list)  # Output: [1, 2, [3, 4, 5]]"
      ],
      "metadata": {
        "colab": {
          "base_uri": "https://localhost:8080/"
        },
        "id": "aPCZTg2C5DyK",
        "outputId": "9851fb00-8473-4abf-f8ac-ca2595896bf9"
      },
      "execution_count": 21,
      "outputs": [
        {
          "output_type": "stream",
          "name": "stdout",
          "text": [
            "[1, 2, [3, 4, 5]]\n",
            "[1, 2, [3, 4, 5]]\n"
          ]
        }
      ]
    },
    {
      "cell_type": "markdown",
      "source": [
        "In this example, the copy.copy() function creates a shallow copy of the original_list. When we modify the nested list in the original_list, the same modification is reflected in the copied_list because they share the same reference to the nested list."
      ],
      "metadata": {
        "id": "rtD0hEry5Gmo"
      }
    },
    {
      "cell_type": "markdown",
      "source": [
        "**copy.deepcopy() (deep copy):**"
      ],
      "metadata": {
        "id": "7dpJwTOL5JRp"
      }
    },
    {
      "cell_type": "markdown",
      "source": [
        "* Deep copy means that a new object is created, and the entire object hierarchy is recursively copied. This includes copying all nested objects and their contents."
      ],
      "metadata": {
        "id": "sVDlxioB5QKY"
      }
    },
    {
      "cell_type": "markdown",
      "source": [
        "* The resulting copied object is completely independent of the original object, and any changes made to one will not affect the other."
      ],
      "metadata": {
        "id": "QWC4Bxqn5UGw"
      }
    },
    {
      "cell_type": "code",
      "source": [
        "import copy\n",
        "\n",
        "original_list = [1, 2, [3, 4]]\n",
        "copied_list = copy.deepcopy(original_list)\n",
        "\n",
        "original_list[2].append(5)\n",
        "\n",
        "print(original_list)  # Output: [1, 2, [3, 4, 5]]\n",
        "print(copied_list)  # Output: [1, 2, [3, 4]]\n"
      ],
      "metadata": {
        "colab": {
          "base_uri": "https://localhost:8080/"
        },
        "id": "xEm_HcZy5XLr",
        "outputId": "ee01512a-882d-4581-a0e0-da1873f349d8"
      },
      "execution_count": 22,
      "outputs": [
        {
          "output_type": "stream",
          "name": "stdout",
          "text": [
            "[1, 2, [3, 4, 5]]\n",
            "[1, 2, [3, 4]]\n"
          ]
        }
      ]
    },
    {
      "cell_type": "markdown",
      "source": [
        "In this example, the copy.deepcopy() function creates a deep copy of the original_list. When we modify the nested list in the original_list, the copied_list remains unaffected because it has its own separate copy of the nested list."
      ],
      "metadata": {
        "id": "UYS81jXg5ZJ_"
      }
    }
  ]
}