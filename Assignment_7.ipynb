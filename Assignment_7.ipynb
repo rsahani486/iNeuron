{
  "nbformat": 4,
  "nbformat_minor": 0,
  "metadata": {
    "colab": {
      "provenance": [],
      "authorship_tag": "ABX9TyP2FKj2Jr9rrpu7/Hsu9bpM",
      "include_colab_link": true
    },
    "kernelspec": {
      "name": "python3",
      "display_name": "Python 3"
    },
    "language_info": {
      "name": "python"
    }
  },
  "cells": [
    {
      "cell_type": "markdown",
      "metadata": {
        "id": "view-in-github",
        "colab_type": "text"
      },
      "source": [
        "<a href=\"https://colab.research.google.com/github/rsahani486/iNeuron/blob/main/Assignment_7.ipynb\" target=\"_parent\"><img src=\"https://colab.research.google.com/assets/colab-badge.svg\" alt=\"Open In Colab\"/></a>"
      ]
    },
    {
      "cell_type": "markdown",
      "source": [
        "Q.1. Create two int type variables, apply addition, subtraction, division and multiplications\n",
        "and store the results in variables. Then print the data in the following format by calling the\n",
        "variables:"
      ],
      "metadata": {
        "id": "UBPlouhD7io4"
      }
    },
    {
      "cell_type": "code",
      "source": [
        "num1 = 10\n",
        "num2 = 5\n",
        "add = num1+num2\n",
        "sub = num1 -num2\n",
        "div = num1/ num2\n",
        "mul = num1 * num2\n",
        "print(\"First variable is num1 & second variable is num2.\")\n",
        "print(f\"Addition:       {num1} + {num2} = {add}\")\n",
        "print(f\"Subtraction:    {num1} - {num2} = {sub}\")\n",
        "print(f\"Division:       {num1} / {num2} = {div}\")\n",
        "print(f\"Multiplication: {num1} * {num2} = {mul}\")"
      ],
      "metadata": {
        "colab": {
          "base_uri": "https://localhost:8080/"
        },
        "id": "yhW1dXIF7v3h",
        "outputId": "d369183b-c565-4d4c-9461-b11380952011"
      },
      "execution_count": 5,
      "outputs": [
        {
          "output_type": "stream",
          "name": "stdout",
          "text": [
            "First variable is num1 & second variable is num2.\n",
            "Addition:       10 + 5 = 15\n",
            "Subtraction:    10 - 5 = 5\n",
            "Division:       10 / 5 = 2.0\n",
            "Multiplication: 10 * 5 = 50\n"
          ]
        }
      ]
    },
    {
      "cell_type": "markdown",
      "source": [
        "Q.2. What is the difference between the following operators:\n",
        "(i) ‘/’ & ‘//’\n",
        "(ii) ‘**’ & ‘^’"
      ],
      "metadata": {
        "id": "FN4yn4ht9jvU"
      }
    },
    {
      "cell_type": "markdown",
      "source": [
        "**(i)**\n",
        "\n",
        "'/' This is an division opertator which gives result in **Floating point** format.\n",
        "\n",
        "'//' This is an floor division opertator which gives result in **Integer** format"
      ],
      "metadata": {
        "id": "O6Vh-tfS-7qB"
      }
    },
    {
      "cell_type": "markdown",
      "source": [
        "(ii)\n",
        "\n",
        "'**' This is an Exponentiation opertator which gives squares of an value.\n",
        "\n",
        "'^' This is an bit-wise exclusive OR (XOR) operator that compares each bit and set it to 1 if only one is 1, otherwise (if both are 1 or both are 0) it is set to 0:"
      ],
      "metadata": {
        "id": "SZV-wGeB2lu3"
      }
    },
    {
      "cell_type": "markdown",
      "source": [
        "Q.3. List the logical operators."
      ],
      "metadata": {
        "id": "hOu8qRa24IjJ"
      }
    },
    {
      "cell_type": "markdown",
      "source": [
        "**1. and**: The and operator returns True if both operands are True, otherwise, it returns False.\n",
        "\n",
        "**2. or**: The or operator returns True if at least one of the operands is True, otherwise, it returns False.\n",
        "\n",
        "**3. not**: The not operator is a unary operator that negates the value of its operand. If the operand is True, it returns False, and if the operand is False, it returns True."
      ],
      "metadata": {
        "id": "tdB7wjEJ4M4N"
      }
    },
    {
      "cell_type": "markdown",
      "source": [
        "Q.4. Explain right shift operator and left shift operator with examples."
      ],
      "metadata": {
        "id": "e6ySvnmI42rW"
      }
    },
    {
      "cell_type": "markdown",
      "source": [
        "The **right shift operator (>>)** shifts the bits of a number towards the right by a specified number of positions. \n",
        "It discards the rightmost bits and fills the leftmost bits with the sign bit (0 for positive numbers, 1 for negative numbers)."
      ],
      "metadata": {
        "id": "O5YQIyWyFwBS"
      }
    },
    {
      "cell_type": "code",
      "source": [
        "num = 10  # Binary representation: 00001010\n",
        "\n",
        "# Shifting the bits 2 positions to the right\n",
        "result = num >> 2\n",
        "\n",
        "print(result)  # Output: 2\n",
        "\n",
        "\"\"\"\n",
        "In this example, the binary representation of num is 00001010. \n",
        "Shifting the bits 2 positions to the right results in 00000010, which is equal to 2 in decimal.\n",
        "\"\"\""
      ],
      "metadata": {
        "id": "Tnp6A10z46I5"
      },
      "execution_count": null,
      "outputs": []
    },
    {
      "cell_type": "markdown",
      "source": [
        "The **left shift operator (<<)** shifts the bits of a number towards the left by a specified number of positions. It fills the rightmost bits with 0 and moves the other bits to the left."
      ],
      "metadata": {
        "id": "6UqGN709GYRn"
      }
    },
    {
      "cell_type": "code",
      "source": [
        "num = 10  # Binary representation: 00001010\n",
        "\n",
        "# Shifting the bits 3 positions to the left\n",
        "result = num << 3\n",
        "\n",
        "print(result)  # Output: 80\n",
        "\n",
        "\"\"\"\n",
        "In this example, the binary representation of num is 00001010. \n",
        "Shifting the bits 3 positions to the left results in 01010000, which is equal to 80 in decimal.\n",
        "\"\"\""
      ],
      "metadata": {
        "id": "pqq5NbeaGaND"
      },
      "execution_count": null,
      "outputs": []
    },
    {
      "cell_type": "markdown",
      "source": [
        "Q.5. Create a list containing int type data of length 15. Then write a code to check if 10 is\n",
        "present in the list or not."
      ],
      "metadata": {
        "id": "FK_ViW8d49WH"
      }
    },
    {
      "cell_type": "code",
      "source": [
        "lst = [1, 2, 3, 4, 5, 6, 7, 8, 9, 10, 11, 12, 13, 14, 15]\n",
        "for i in lst:\n",
        "    if i == 10:\n",
        "        print(\"present in the list\")\n",
        "        break\n",
        "else:\n",
        "    print(\"Not present in the list\")"
      ],
      "metadata": {
        "colab": {
          "base_uri": "https://localhost:8080/"
        },
        "id": "240pEQVy4-Ea",
        "outputId": "a9c826e8-a641-4e59-dc74-1f89d0c6d8f2"
      },
      "execution_count": 7,
      "outputs": [
        {
          "output_type": "stream",
          "name": "stdout",
          "text": [
            "present in the list\n"
          ]
        }
      ]
    },
    {
      "cell_type": "code",
      "source": [],
      "metadata": {
        "id": "uktqCfwxGtCe"
      },
      "execution_count": null,
      "outputs": []
    }
  ]
}