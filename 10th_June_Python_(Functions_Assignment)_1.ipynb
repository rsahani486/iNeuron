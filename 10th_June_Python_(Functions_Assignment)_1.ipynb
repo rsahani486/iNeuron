{
  "nbformat": 4,
  "nbformat_minor": 0,
  "metadata": {
    "colab": {
      "provenance": [],
      "authorship_tag": "ABX9TyNrufsLU1maCzYKr9kNIw7A",
      "include_colab_link": true
    },
    "kernelspec": {
      "name": "python3",
      "display_name": "Python 3"
    },
    "language_info": {
      "name": "python"
    }
  },
  "cells": [
    {
      "cell_type": "markdown",
      "metadata": {
        "id": "view-in-github",
        "colab_type": "text"
      },
      "source": [
        "<a href=\"https://colab.research.google.com/github/rsahani486/iNeuron/blob/main/10th_June_Python_(Functions_Assignment)_1.ipynb\" target=\"_parent\"><img src=\"https://colab.research.google.com/assets/colab-badge.svg\" alt=\"Open In Colab\"/></a>"
      ]
    },
    {
      "cell_type": "markdown",
      "source": [
        "1. In Python, what is the difference between a built-in function and a user-defined function? Provide an\n",
        "example of each."
      ],
      "metadata": {
        "id": "ft4gaU5yRQPR"
      }
    },
    {
      "cell_type": "markdown",
      "source": [
        "In Python, the main difference between built-in functions and user-defined functions lies in their origin and how they are defined."
      ],
      "metadata": {
        "id": "gRdSLj8rRSn-"
      }
    },
    {
      "cell_type": "markdown",
      "source": [
        "**Built-in functions** are functions that are provided as part of the Python programming language. They are pre-defined and readily available for use without requiring any additional setup or import statements."
      ],
      "metadata": {
        "id": "sreLy077Rkbu"
      }
    },
    {
      "cell_type": "code",
      "source": [
        "# Using the built-in function 'print()'\n",
        "print(\"Hello, World!\")"
      ],
      "metadata": {
        "id": "VXuuoVgtRv3p",
        "colab": {
          "base_uri": "https://localhost:8080/"
        },
        "outputId": "8073ab27-239d-4f4c-e1ed-03846bca17e5"
      },
      "execution_count": 6,
      "outputs": [
        {
          "output_type": "stream",
          "name": "stdout",
          "text": [
            "Hello, World!\n"
          ]
        }
      ]
    },
    {
      "cell_type": "markdown",
      "source": [
        "**User-defined functions** are functions created by the user to perform specific tasks or operations. They are defined by the user using the def keyword, followed by a name, parameter list (if any), and a block of code that defines the function's behavior."
      ],
      "metadata": {
        "id": "1yzTpLWVRFi6"
      }
    },
    {
      "cell_type": "code",
      "source": [
        "# User-defined function to calculate the square of a number\n",
        "def square(num):\n",
        "    return num * num\n",
        "\n",
        "result = square(5)\n",
        "print(result)  # Output: 25"
      ],
      "metadata": {
        "colab": {
          "base_uri": "https://localhost:8080/"
        },
        "id": "GdSMMTh8SELK",
        "outputId": "e105acc9-5b15-46dd-cb99-eb68460e2cf9"
      },
      "execution_count": 7,
      "outputs": [
        {
          "output_type": "stream",
          "name": "stdout",
          "text": [
            "25\n"
          ]
        }
      ]
    },
    {
      "cell_type": "markdown",
      "source": [
        "2. How can you pass arguments to a function in Python? Explain the difference between positional\n",
        "arguments and keyword arguments."
      ],
      "metadata": {
        "id": "7UfZV4gtR35J"
      }
    },
    {
      "cell_type": "markdown",
      "source": [
        "**Positional Arguments:**"
      ],
      "metadata": {
        "id": "cHq2RtutSLLc"
      }
    },
    {
      "cell_type": "markdown",
      "source": [
        "* Positional arguments are passed to a function based on their position or order.\n",
        "* When calling a function, you provide values for the arguments in the same order as they are defined in the function's parameter list.\n",
        "* Positional arguments are matched to the parameters of the function based on their respective positions.\n",
        "* The number and order of the arguments must match the function's parameter list."
      ],
      "metadata": {
        "id": "swVFDS71Sf17"
      }
    },
    {
      "cell_type": "code",
      "source": [
        "def greet(name, age):\n",
        "    print(\"Hello\", name + \"!\")\n",
        "    print(\"You are\", age, \"years old.\")\n",
        "\n",
        "greet(\"Alice\", 25)"
      ],
      "metadata": {
        "colab": {
          "base_uri": "https://localhost:8080/"
        },
        "id": "DKA0IDbrStG8",
        "outputId": "b3b969f8-562e-4275-b3da-9f2ce99cfcc5"
      },
      "execution_count": 8,
      "outputs": [
        {
          "output_type": "stream",
          "name": "stdout",
          "text": [
            "Hello Alice!\n",
            "You are 25 years old.\n"
          ]
        }
      ]
    },
    {
      "cell_type": "markdown",
      "source": [
        "**Keyword Arguments:**"
      ],
      "metadata": {
        "id": "CuC9NZ_QSxPB"
      }
    },
    {
      "cell_type": "markdown",
      "source": [
        "* Keyword arguments are passed to a function using their corresponding parameter names.\n",
        "* When calling a function, you can specify the argument values explicitly by using the parameter name followed by the value, separated by an equals sign (=).\n",
        "* Keyword arguments allow you to pass arguments in any order, regardless of their position in the function's parameter list.\n",
        "* You can mix positional and keyword arguments in a function call."
      ],
      "metadata": {
        "id": "IEXTxjgWS3pt"
      }
    },
    {
      "cell_type": "code",
      "source": [
        "def greet(name, age):\n",
        "    print(\"Hello\", name + \"!\")\n",
        "    print(\"You are\", age, \"years old.\")\n",
        "\n",
        "greet(age=25, name=\"Alice\")"
      ],
      "metadata": {
        "colab": {
          "base_uri": "https://localhost:8080/"
        },
        "id": "CKdXgKylTDiW",
        "outputId": "c631627c-19dd-44a4-ea55-bc443e6e3860"
      },
      "execution_count": 9,
      "outputs": [
        {
          "output_type": "stream",
          "name": "stdout",
          "text": [
            "Hello Alice!\n",
            "You are 25 years old.\n"
          ]
        }
      ]
    },
    {
      "cell_type": "markdown",
      "source": [
        "3. What is the purpose of the return statement in a function? Can a function have multiple return\n",
        "statements? Explain with an example."
      ],
      "metadata": {
        "id": "m7RCtlhGTP7g"
      }
    },
    {
      "cell_type": "markdown",
      "source": [
        "* The purpose of the return statement in a function is to specify the value or values that the function should output or \"return\" back to the caller.\n",
        "* When a return statement is encountered in a function, the function execution halts, and the specified value(s) are sent back as the result of the function call."
      ],
      "metadata": {
        "id": "NeAyxDLRTQzn"
      }
    },
    {
      "cell_type": "markdown",
      "source": [
        "* A function can have multiple return statements, meaning it can return different values at different points in the function's execution.\n",
        "* Once a return statement is encountered, the function immediately exits, and the specified value is returned to the caller.\n",
        "* Any code or statements after the return statement will not be executed."
      ],
      "metadata": {
        "id": "upzTsyJXT7Yi"
      }
    },
    {
      "cell_type": "code",
      "source": [
        "def get_grade(score):\n",
        "    if score >= 90:\n",
        "        return \"A\"\n",
        "    elif score >= 80:\n",
        "        return \"B\"\n",
        "    elif score >= 70:\n",
        "        return \"C\"\n",
        "    else:\n",
        "        return \"F\"\n",
        "\n",
        "grade1 = get_grade(85)\n",
        "grade2 = get_grade(92)\n",
        "\n",
        "print(grade1)  # Output: B\n",
        "print(grade2)  # Output: A"
      ],
      "metadata": {
        "colab": {
          "base_uri": "https://localhost:8080/"
        },
        "id": "mIbY8OPLUUjy",
        "outputId": "8761a519-55a5-4689-e097-c8924ab3eb90"
      },
      "execution_count": 10,
      "outputs": [
        {
          "output_type": "stream",
          "name": "stdout",
          "text": [
            "B\n",
            "A\n"
          ]
        }
      ]
    },
    {
      "cell_type": "markdown",
      "source": [
        "4. What are lambda functions in Python? How are they different from regular functions? Provide an\n",
        "example where a lambda function can be useful."
      ],
      "metadata": {
        "id": "aWEKcUJuUYn9"
      }
    },
    {
      "cell_type": "markdown",
      "source": [
        "In Python, lambda functions, also known as anonymous functions, are small, single-expression functions that don't have a name. They are defined using the lambda keyword, followed by a list of parameters, a colon, and the expression to be evaluated. The result of the expression is the return value of the lambda function."
      ],
      "metadata": {
        "id": "cnfAJwP9tLac"
      }
    },
    {
      "cell_type": "markdown",
      "source": [
        "Lambda functions are different from regular functions in a few ways:"
      ],
      "metadata": {
        "id": "7PMt1szOtMUE"
      }
    },
    {
      "cell_type": "markdown",
      "source": [
        "* Syntax\n",
        "* Namelessness: Lambda functions don't have a name.\n",
        "* Limited functionality"
      ],
      "metadata": {
        "id": "wKYkthPCtQZ_"
      }
    },
    {
      "cell_type": "code",
      "source": [
        "# Sorting a list of tuples based on a specific element of each tuple\n",
        "fruits = [('apple', 5), ('banana', 2), ('orange', 10)]\n",
        "\n",
        "# Sort the list based on the second element of each tuple (quantity)\n",
        "fruits.sort(key=lambda x: x[1])\n",
        "print(fruits)"
      ],
      "metadata": {
        "id": "2n1_ZsP8UVT7",
        "colab": {
          "base_uri": "https://localhost:8080/"
        },
        "outputId": "02160c49-3ad9-4591-85f1-235447828fa9"
      },
      "execution_count": 1,
      "outputs": [
        {
          "output_type": "stream",
          "name": "stdout",
          "text": [
            "[('banana', 2), ('apple', 5), ('orange', 10)]\n"
          ]
        }
      ]
    },
    {
      "cell_type": "markdown",
      "source": [
        "5. How does the concept of \"scope\" apply to functions in Python? Explain the difference between local\n",
        "scope and global scope."
      ],
      "metadata": {
        "id": "8pY0CtpBtmgS"
      }
    },
    {
      "cell_type": "markdown",
      "source": [
        "In Python, scope refers to the region or part of the code where a variable or name is accessible. It determines the visibility and lifetime of variables. When it comes to functions, there are two main types of scope: local scope and global scope."
      ],
      "metadata": {
        "id": "sIUkrjgdt9_A"
      }
    },
    {
      "cell_type": "markdown",
      "source": [
        "**Local Scope:**"
      ],
      "metadata": {
        "id": "pN2TSLTEuOA0"
      }
    },
    {
      "cell_type": "markdown",
      "source": [
        "* Local scope refers to the variables that are defined inside a function. These variables are only accessible within the function in which they are defined.\n",
        "* Local variables have a limited lifespan and are created when the function is called and destroyed when the function execution completes."
      ],
      "metadata": {
        "id": "6N4oBUAfuQ7P"
      }
    },
    {
      "cell_type": "markdown",
      "source": [
        "**Global Scope:**"
      ],
      "metadata": {
        "id": "2XHMroWwuWad"
      }
    },
    {
      "cell_type": "markdown",
      "source": [
        "* Global scope refers to variables that are defined outside of any function or code block.\n",
        "* Global variables are accessible from any part of the code, including within functions."
      ],
      "metadata": {
        "id": "Cztv1zIauZar"
      }
    },
    {
      "cell_type": "markdown",
      "source": [
        "6. How can you use the \"return\" statement in a Python function to return multiple values?"
      ],
      "metadata": {
        "id": "yLraaNUtul-j"
      }
    },
    {
      "cell_type": "markdown",
      "source": [
        "In Python, the return statement is used to exit a function and optionally return a value. While a function can only directly return a single value, there are a few ways to return multiple values from a function:"
      ],
      "metadata": {
        "id": "Plh-8n5cuoSr"
      }
    },
    {
      "cell_type": "markdown",
      "source": [
        "* Returning Multiple Values as a Tuple\n",
        "* Returning Multiple Values as a Dictionary\n",
        "* Returning Multiple Values as a List"
      ],
      "metadata": {
        "id": "tCzF1Ol8u0hK"
      }
    },
    {
      "cell_type": "markdown",
      "source": [
        "7. What is the difference between the \"pass by value\" and \"pass by reference\" concepts when it\n",
        "comes to function arguments in Python?"
      ],
      "metadata": {
        "id": "qPd_6PxKvCqs"
      }
    },
    {
      "cell_type": "markdown",
      "source": [
        " Python’s argument passing model is neither “Pass by Value” nor “Pass by Reference” but it is “Pass by Object Reference”."
      ],
      "metadata": {
        "id": "07mqvYOCvJFU"
      }
    },
    {
      "cell_type": "markdown",
      "source": [
        "**Pass by Value:**"
      ],
      "metadata": {
        "id": "UeT3ZNNExpXx"
      }
    },
    {
      "cell_type": "markdown",
      "source": [
        "In a language that uses pass by value, a copy of the value is made and passed to the function. Any modifications made to the function parameter within the function do not affect the original value outside the function. Changes are confined to the local scope of the function."
      ],
      "metadata": {
        "id": "04M_GnLV9mFD"
      }
    },
    {
      "cell_type": "markdown",
      "source": [
        "**Pass by Reference:**"
      ],
      "metadata": {
        "id": "TySlC3z_9qL9"
      }
    },
    {
      "cell_type": "markdown",
      "source": [
        "In a language that uses pass by reference, a reference to the variable is passed to the function. Any modifications made to the function parameter within the function affect the original value outside the function. Changes are visible both inside and outside the function."
      ],
      "metadata": {
        "id": "0P69jkHv9vYn"
      }
    },
    {
      "cell_type": "markdown",
      "source": [
        "8. Create a function that can intake integer or decimal value and do following operations:\n",
        "\n",
        "a. Logarithmic function (log x)\n",
        "\n",
        "b. Exponential function (exp(x))\n",
        "\n",
        "c. Power function with base 2 (2x)\n",
        "\n",
        "d. Square root"
      ],
      "metadata": {
        "id": "37YwCS899xgZ"
      }
    },
    {
      "cell_type": "code",
      "source": [
        "import math\n",
        "\n",
        "def math_operations(value):\n",
        "    # Logarithmic function (log x)\n",
        "    log_result = math.log(value)\n",
        "\n",
        "    # Exponential function (exp(x))\n",
        "    exp_result = math.exp(value)\n",
        "\n",
        "    # Power function with base 2 (2^x)\n",
        "    power_result = math.pow(2, value)\n",
        "\n",
        "    # Square root\n",
        "    sqrt_result = math.sqrt(value)\n",
        "\n",
        "    # Return the results as a dictionary\n",
        "    return {\n",
        "        \"logarithm\": log_result,\n",
        "        \"exponential\": exp_result,\n",
        "        \"power\": power_result,\n",
        "        \"square_root\": sqrt_result\n",
        "    }\n"
      ],
      "metadata": {
        "id": "SkM5485A-Ugl"
      },
      "execution_count": 2,
      "outputs": []
    },
    {
      "cell_type": "code",
      "source": [
        "result = math_operations(4.5)\n",
        "print(result)"
      ],
      "metadata": {
        "colab": {
          "base_uri": "https://localhost:8080/"
        },
        "id": "pAX76bUm-abw",
        "outputId": "4b8cfdec-201f-46a7-985e-90d73a98f263"
      },
      "execution_count": 3,
      "outputs": [
        {
          "output_type": "stream",
          "name": "stdout",
          "text": [
            "{'logarithm': 1.5040773967762742, 'exponential': 90.01713130052181, 'power': 22.627416997969522, 'square_root': 2.1213203435596424}\n"
          ]
        }
      ]
    },
    {
      "cell_type": "markdown",
      "source": [
        "9. Create a function that takes a full name as an argument and returns first name and last name."
      ],
      "metadata": {
        "id": "IuM9PZoe9842"
      }
    },
    {
      "cell_type": "code",
      "source": [
        "def get_first_last_name(full_name):\n",
        "    name_parts = full_name.split()\n",
        "    first_name = name_parts[0]\n",
        "    last_name = name_parts[-1]\n",
        "    return first_name, last_name"
      ],
      "metadata": {
        "id": "WDSY93GD_Srf"
      },
      "execution_count": 4,
      "outputs": []
    },
    {
      "cell_type": "code",
      "source": [
        "name = \"John Doe\"\n",
        "first_name, last_name = get_first_last_name(name)\n",
        "print(\"First Name:\", first_name)\n",
        "print(\"Last Name:\", last_name)"
      ],
      "metadata": {
        "colab": {
          "base_uri": "https://localhost:8080/"
        },
        "id": "Tu-VD9xg_OTe",
        "outputId": "b6487b06-e7b6-4400-8f11-67fdfb0fab0c"
      },
      "execution_count": 5,
      "outputs": [
        {
          "output_type": "stream",
          "name": "stdout",
          "text": [
            "First Name: John\n",
            "Last Name: Doe\n"
          ]
        }
      ]
    }
  ]
}