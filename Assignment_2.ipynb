{
  "nbformat": 4,
  "nbformat_minor": 0,
  "metadata": {
    "colab": {
      "provenance": [],
      "authorship_tag": "ABX9TyPwDDlo3Basnn11vObHlbV5",
      "include_colab_link": true
    },
    "kernelspec": {
      "name": "python3",
      "display_name": "Python 3"
    },
    "language_info": {
      "name": "python"
    }
  },
  "cells": [
    {
      "cell_type": "markdown",
      "metadata": {
        "id": "view-in-github",
        "colab_type": "text"
      },
      "source": [
        "<a href=\"https://colab.research.google.com/github/rsahani486/iNeuron/blob/main/Assignment_2.ipynb\" target=\"_parent\"><img src=\"https://colab.research.google.com/assets/colab-badge.svg\" alt=\"Open In Colab\"/></a>"
      ]
    },
    {
      "cell_type": "markdown",
      "source": [
        "1.What are the two values of the Boolean data type? How do you write them?"
      ],
      "metadata": {
        "id": "__ZxrzHkHCW5"
      }
    },
    {
      "cell_type": "markdown",
      "source": [
        "The two values of the Boolean data type are 'True' and 'False'.\n"
      ],
      "metadata": {
        "id": "zs3UoPXpHFIk"
      }
    },
    {
      "cell_type": "code",
      "source": [
        "x = True\n",
        "y = False\n",
        "\n",
        "print(x)  \n",
        "print(y)  "
      ],
      "metadata": {
        "colab": {
          "base_uri": "https://localhost:8080/"
        },
        "id": "I5B3dnYXHyJV",
        "outputId": "f62daf00-c8c6-4a74-d4c6-14de36a42e63"
      },
      "execution_count": 1,
      "outputs": [
        {
          "output_type": "stream",
          "name": "stdout",
          "text": [
            "True\n",
            "False\n"
          ]
        }
      ]
    },
    {
      "cell_type": "markdown",
      "source": [
        "2. What are the three different types of Boolean operators?"
      ],
      "metadata": {
        "id": "XGmkcEWdH4jW"
      }
    },
    {
      "cell_type": "markdown",
      "source": [
        "* **and**: The and operator returns True if both operands are True, and False otherwise.\n",
        "\n",
        "* **or**: The or operator returns True if at least one of the operands is True, and False if both operands are False.\n",
        "\n",
        "* **not**: The not operator returns the inverse of the Boolean value of its operand. If the operand is True, not returns False, and if the operand is False, not returns True. "
      ],
      "metadata": {
        "id": "QM7Up_eOJC6v"
      }
    },
    {
      "cell_type": "markdown",
      "source": [
        "3. Make a list of each Boolean operator&#39;s truth tables (i.e. every possible combination of Boolean\n",
        "values for the operator and what it evaluate )."
      ],
      "metadata": {
        "id": "Oq10D0DnJaFN"
      }
    },
    {
      "cell_type": "markdown",
      "source": [
        "**and Operator**:"
      ],
      "metadata": {
        "id": "e-ozibPYJzxh"
      }
    },
    {
      "cell_type": "markdown",
      "source": [
        "| Operand 1 | Operand 2 | Result |\n",
        "|-----------|-----------|--------|\n",
        "|   False   |   False   | False  |\n",
        "|   False   |   True    | False  |\n",
        "|   True    |   False   | False  |\n",
        "|   True    |   True    | True   |\n"
      ],
      "metadata": {
        "id": "VLfMR8s9J2Pk"
      }
    },
    {
      "cell_type": "markdown",
      "source": [
        "**or Operator**:"
      ],
      "metadata": {
        "id": "qsLnn7r9KLN_"
      }
    },
    {
      "cell_type": "markdown",
      "source": [
        "| Operand 1 | Operand 2 | Result |\n",
        "|-----------|-----------|--------|\n",
        "|   False   |   False   | False  |\n",
        "|   False   |   True    | True   |\n",
        "|   True    |   False   | True   |\n",
        "|   True    |   True    | True   |\n"
      ],
      "metadata": {
        "id": "hrbx-PMJKPF4"
      }
    },
    {
      "cell_type": "markdown",
      "source": [
        "**not Operator**:"
      ],
      "metadata": {
        "id": "j4dfSoHEKQ_I"
      }
    },
    {
      "cell_type": "markdown",
      "source": [
        "| Operand | Result |\n",
        "|---------|--------|\n",
        "|  False  |  True  |\n",
        "|  True   | False  |\n"
      ],
      "metadata": {
        "id": "hN-buMUBKUUl"
      }
    },
    {
      "cell_type": "markdown",
      "source": [
        "4. What are the values of the following expressions?"
      ],
      "metadata": {
        "id": "XYOSI-8-KeGQ"
      }
    },
    {
      "cell_type": "code",
      "source": [
        "(5 > 4) and (3 == 5)"
      ],
      "metadata": {
        "colab": {
          "base_uri": "https://localhost:8080/"
        },
        "id": "QYr0OyPwKogg",
        "outputId": "26d84a88-de6b-45b0-e4b1-78dee0a01759"
      },
      "execution_count": 2,
      "outputs": [
        {
          "output_type": "execute_result",
          "data": {
            "text/plain": [
              "False"
            ]
          },
          "metadata": {},
          "execution_count": 2
        }
      ]
    },
    {
      "cell_type": "code",
      "source": [
        "not (5 > 4)"
      ],
      "metadata": {
        "colab": {
          "base_uri": "https://localhost:8080/"
        },
        "id": "K-bU5pC6KpJQ",
        "outputId": "2015bf0e-5df8-443d-be38-b407a3817496"
      },
      "execution_count": 3,
      "outputs": [
        {
          "output_type": "execute_result",
          "data": {
            "text/plain": [
              "False"
            ]
          },
          "metadata": {},
          "execution_count": 3
        }
      ]
    },
    {
      "cell_type": "code",
      "source": [
        "(5 > 4) or (3 == 5)"
      ],
      "metadata": {
        "colab": {
          "base_uri": "https://localhost:8080/"
        },
        "id": "ALbQpUXsKuBN",
        "outputId": "0d90b36c-17f2-4564-ede2-14f826bf073f"
      },
      "execution_count": 4,
      "outputs": [
        {
          "output_type": "execute_result",
          "data": {
            "text/plain": [
              "True"
            ]
          },
          "metadata": {},
          "execution_count": 4
        }
      ]
    },
    {
      "cell_type": "code",
      "source": [
        "not ((5 > 4) or (3 == 5))"
      ],
      "metadata": {
        "colab": {
          "base_uri": "https://localhost:8080/"
        },
        "id": "YIn00NQqKzrG",
        "outputId": "c95c19c7-c8df-46f1-aa37-a355cbd91d33"
      },
      "execution_count": 5,
      "outputs": [
        {
          "output_type": "execute_result",
          "data": {
            "text/plain": [
              "False"
            ]
          },
          "metadata": {},
          "execution_count": 5
        }
      ]
    },
    {
      "cell_type": "code",
      "source": [
        "(True and True) and (True == False)"
      ],
      "metadata": {
        "colab": {
          "base_uri": "https://localhost:8080/"
        },
        "id": "1KmLgzczK26H",
        "outputId": "600d58fd-7984-48a5-95a7-f94564525142"
      },
      "execution_count": 6,
      "outputs": [
        {
          "output_type": "execute_result",
          "data": {
            "text/plain": [
              "False"
            ]
          },
          "metadata": {},
          "execution_count": 6
        }
      ]
    },
    {
      "cell_type": "code",
      "source": [
        "(not False) or (not True)"
      ],
      "metadata": {
        "colab": {
          "base_uri": "https://localhost:8080/"
        },
        "id": "hbZfg55WK6Yg",
        "outputId": "9de7168f-d2b5-4c1d-cabd-f57912b5e805"
      },
      "execution_count": 7,
      "outputs": [
        {
          "output_type": "execute_result",
          "data": {
            "text/plain": [
              "True"
            ]
          },
          "metadata": {},
          "execution_count": 7
        }
      ]
    },
    {
      "cell_type": "markdown",
      "source": [
        "5. What are the six comparison operators?"
      ],
      "metadata": {
        "id": "e6IBnsyOLX9H"
      }
    },
    {
      "cell_type": "markdown",
      "source": [
        "The six comparison operators are stated below:\n",
        "\n",
        "* Equal to (==)\n",
        "* Not equal to (!=)\n",
        "* Greater than (>)\n",
        "* Less than (<)\n",
        "* Greater than or equal to (>=) \n",
        "* Less than or equal to (<=)"
      ],
      "metadata": {
        "id": "MqNfqtROLlU7"
      }
    },
    {
      "cell_type": "markdown",
      "source": [
        "6. How do you tell the difference between the equal to and assignment operators?Describe a condition and when you would use one."
      ],
      "metadata": {
        "id": "pJkKaM_ZMJ6h"
      }
    },
    {
      "cell_type": "markdown",
      "source": [
        "Equal to (==) is used to compare two value while assignment operators (=) is used to assign value to an variable."
      ],
      "metadata": {
        "id": "tqt0TsKCMNaK"
      }
    },
    {
      "cell_type": "code",
      "source": [
        "x = 10  # Using assignment operator (=) to assign the value 10 to variable x\n",
        "y = 5   # Using assignment operator (=) to assign the value 5 to variable y\n",
        "\n",
        "if x == y:  # Using equal to operator (==) to compare the values of x and y\n",
        "    print(\"x is equal to y\")\n",
        "else:\n",
        "    print(\"x is not equal to y\")"
      ],
      "metadata": {
        "colab": {
          "base_uri": "https://localhost:8080/"
        },
        "id": "8HLjePGbNMHB",
        "outputId": "968b522f-6da1-43e2-9333-4e5918be1912"
      },
      "execution_count": 8,
      "outputs": [
        {
          "output_type": "stream",
          "name": "stdout",
          "text": [
            "x is not equal to y\n"
          ]
        }
      ]
    },
    {
      "cell_type": "markdown",
      "source": [
        "7. Identify the three blocks in this code:"
      ],
      "metadata": {
        "id": "PiHsgRmjNSwN"
      }
    },
    {
      "cell_type": "code",
      "source": [
        "# First Block\n",
        "spam = 0\n",
        "if spam == 10:\n",
        "  print(\"eggs\")\n",
        "#----------------------------------------------\n",
        "# Second Block\n",
        "if spam > 5:\n",
        "  print(\"bacon\")\n",
        "#----------------------------------------------\n",
        "# Third Block\n",
        "else:\n",
        "  print(\"ham\")\n",
        "  print(\"spam\")\n",
        "  print(\"spam\")"
      ],
      "metadata": {
        "colab": {
          "base_uri": "https://localhost:8080/"
        },
        "id": "a6r_1qlfNeDn",
        "outputId": "993db220-0a6c-4c65-be1a-76489b893619"
      },
      "execution_count": 9,
      "outputs": [
        {
          "output_type": "stream",
          "name": "stdout",
          "text": [
            "ham\n",
            "spam\n",
            "spam\n"
          ]
        }
      ]
    },
    {
      "cell_type": "markdown",
      "source": [
        "8. Write code that prints Hello if 1 is stored in spam, prints Howdy if 2 is stored in spam, and prints\n",
        "Greetings! if anything else is stored in spam."
      ],
      "metadata": {
        "id": "CgdOIwk4NdCZ"
      }
    },
    {
      "cell_type": "code",
      "source": [
        "spam = int(input(\"enter a number: \"))\n",
        "if spam == 1:\n",
        "  print(\"Hello\")\n",
        "elif spam == 2:\n",
        "  print(\"Howdy\")\n",
        "else:\n",
        "  print(\"Greetings!\")"
      ],
      "metadata": {
        "colab": {
          "base_uri": "https://localhost:8080/"
        },
        "id": "IYIYr8ALOjdB",
        "outputId": "02d4c6a0-38fa-49e2-f588-564d6721c19c"
      },
      "execution_count": 10,
      "outputs": [
        {
          "output_type": "stream",
          "name": "stdout",
          "text": [
            "enter a number: 5\n",
            "Greetings!\n"
          ]
        }
      ]
    },
    {
      "cell_type": "markdown",
      "source": [
        "9.If your programme is stuck in an endless loop, what keys you’ll press?"
      ],
      "metadata": {
        "id": "ptdby4CXOlCI"
      }
    },
    {
      "cell_type": "markdown",
      "source": [
        "(Ctrl + M I)"
      ],
      "metadata": {
        "id": "9ahbrGL-Onoh"
      }
    },
    {
      "cell_type": "markdown",
      "source": [
        "10. How can you tell the difference between break and continue?"
      ],
      "metadata": {
        "id": "53tIciqBOoKa"
      }
    },
    {
      "cell_type": "markdown",
      "source": [
        "\n",
        "**break statement**: When encountered within a loop (such as for or while), the break statement immediately terminates the loop execution, regardless of the loop's condition. It allows you to prematurely exit the loop and continue executing the code after the loop.\n",
        "\n"
      ],
      "metadata": {
        "id": "00w-gUjGOsS1"
      }
    },
    {
      "cell_type": "markdown",
      "source": [
        "Example:"
      ],
      "metadata": {
        "id": "S-byHxTS9WU4"
      }
    },
    {
      "cell_type": "code",
      "source": [
        "for i in range(5):\n",
        "    if i == 3:\n",
        "        break\n",
        "    print(i)"
      ],
      "metadata": {
        "colab": {
          "base_uri": "https://localhost:8080/"
        },
        "id": "sUBP_vIFqZjv",
        "outputId": "b5c5f3e3-754d-4be5-8f2f-16ce2816bcbc"
      },
      "execution_count": 11,
      "outputs": [
        {
          "output_type": "stream",
          "name": "stdout",
          "text": [
            "0\n",
            "1\n",
            "2\n"
          ]
        }
      ]
    },
    {
      "cell_type": "markdown",
      "source": [
        "In the above example, when i becomes equal to 3, the break statement is executed, causing the loop to terminate. As a result, the loop prints the values 0, 1, and 2, and then exits."
      ],
      "metadata": {
        "id": "266z_8pq9ioN"
      }
    },
    {
      "cell_type": "markdown",
      "source": [
        "**continue statement**: When encountered within a loop, the continue statement skips the remaining statements in the loop's block and moves to the next iteration of the loop. It allows you to bypass certain iterations based on a condition and proceed with the next iteration."
      ],
      "metadata": {
        "id": "kEPGmqLD9Mxy"
      }
    },
    {
      "cell_type": "markdown",
      "source": [
        "Example:"
      ],
      "metadata": {
        "id": "PnyovQLL9QTa"
      }
    },
    {
      "cell_type": "code",
      "source": [
        "for i in range(5):\n",
        "    if i == 2:\n",
        "        continue\n",
        "    print(i)"
      ],
      "metadata": {
        "colab": {
          "base_uri": "https://localhost:8080/"
        },
        "id": "yQwRWG049Sst",
        "outputId": "14153795-95d1-4ba8-b162-4a2313d54613"
      },
      "execution_count": 12,
      "outputs": [
        {
          "output_type": "stream",
          "name": "stdout",
          "text": [
            "0\n",
            "1\n",
            "3\n",
            "4\n"
          ]
        }
      ]
    },
    {
      "cell_type": "markdown",
      "source": [
        "In the above example, when i becomes equal to 2, the continue statement is executed. As a result, the print statement is skipped for that iteration, and the loop proceeds to the next iteration."
      ],
      "metadata": {
        "id": "1HuzX0mg9fWZ"
      }
    },
    {
      "cell_type": "markdown",
      "source": [
        "11. In a for loop, what is the difference between range(10), range(0, 10), and range(0, 10, 1)?"
      ],
      "metadata": {
        "id": "Vp__oKgf9wlK"
      }
    },
    {
      "cell_type": "markdown",
      "source": [
        "In a for loop, range(10), range(0, 10), and range(0, 10, 1) all produce the same sequence of numbers. The three forms are different ways to specify the start, stop, and step values for the range() function."
      ],
      "metadata": {
        "id": "arIvIPvG9zdD"
      }
    },
    {
      "cell_type": "markdown",
      "source": [
        "12. Write a short program that prints the numbers 1 to 10 using a for loop. Then write an equivalent program that prints the numbers 1 to 10 using a while loop."
      ],
      "metadata": {
        "id": "B1t3jt5-9-Bc"
      }
    },
    {
      "cell_type": "code",
      "source": [
        "for i in range(1, 11):\n",
        "  print(i)"
      ],
      "metadata": {
        "colab": {
          "base_uri": "https://localhost:8080/"
        },
        "id": "4Da2gi33-Jaj",
        "outputId": "58c7af35-6afa-4d8e-841f-9185cc9f060c"
      },
      "execution_count": 13,
      "outputs": [
        {
          "output_type": "stream",
          "name": "stdout",
          "text": [
            "1\n",
            "2\n",
            "3\n",
            "4\n",
            "5\n",
            "6\n",
            "7\n",
            "8\n",
            "9\n",
            "10\n"
          ]
        }
      ]
    },
    {
      "cell_type": "code",
      "source": [
        "count = 1\n",
        "while count <= 10:\n",
        "  print(count)\n",
        "  count +=1"
      ],
      "metadata": {
        "colab": {
          "base_uri": "https://localhost:8080/"
        },
        "id": "ZELRn4PB-WGk",
        "outputId": "2fa74b02-e851-47af-c1ff-650831687020"
      },
      "execution_count": 14,
      "outputs": [
        {
          "output_type": "stream",
          "name": "stdout",
          "text": [
            "1\n",
            "2\n",
            "3\n",
            "4\n",
            "5\n",
            "6\n",
            "7\n",
            "8\n",
            "9\n",
            "10\n"
          ]
        }
      ]
    },
    {
      "cell_type": "markdown",
      "source": [
        "13. If you had a function named bacon() inside a module named spam, how would you call it after importing spam?"
      ],
      "metadata": {
        "id": "cyVwnNRq-HEP"
      }
    },
    {
      "cell_type": "markdown",
      "source": [
        "import spam\n",
        "\n",
        "spam.bacon()"
      ],
      "metadata": {
        "id": "McurBHKY_9Cg"
      }
    }
  ]
}