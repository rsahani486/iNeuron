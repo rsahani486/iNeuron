{
  "nbformat": 4,
  "nbformat_minor": 0,
  "metadata": {
    "colab": {
      "provenance": [],
      "authorship_tag": "ABX9TyPhPINaNOjufcbHcnO5gDAp",
      "include_colab_link": true
    },
    "kernelspec": {
      "name": "python3",
      "display_name": "Python 3"
    },
    "language_info": {
      "name": "python"
    }
  },
  "cells": [
    {
      "cell_type": "markdown",
      "metadata": {
        "id": "view-in-github",
        "colab_type": "text"
      },
      "source": [
        "<a href=\"https://colab.research.google.com/github/rsahani486/iNeuron/blob/main/17th_June_'23_Assignment.ipynb\" target=\"_parent\"><img src=\"https://colab.research.google.com/assets/colab-badge.svg\" alt=\"Open In Colab\"/></a>"
      ]
    },
    {
      "cell_type": "markdown",
      "source": [
        "1. What is the role of try and exception block?"
      ],
      "metadata": {
        "id": "Z3BA_LphOz9S"
      }
    },
    {
      "cell_type": "markdown",
      "source": [
        "The try and except block in Python is used for handling exceptions or errors that may occur during the execution of a program.\n",
        "\n",
        "It allows you to write code that can gracefully handle unexpected situations and prevent the program from terminating abruptly."
      ],
      "metadata": {
        "id": "hAa9VvouO9ki"
      }
    },
    {
      "cell_type": "markdown",
      "source": [
        "2. What is the syntax for a basic try-except block?"
      ],
      "metadata": {
        "id": "ZhQ20vS6RezE"
      }
    },
    {
      "cell_type": "markdown",
      "source": [
        "The basic syntax for a try-except block in Python is as follows:"
      ],
      "metadata": {
        "id": "U3FDw6weRpS9"
      }
    },
    {
      "cell_type": "markdown",
      "source": [
        "try:\n",
        "    # Code that may raise an exception\n",
        "    # ...\n",
        "except SomeExceptionType:\n",
        "    # Code to handle the exception\n",
        "    # ..."
      ],
      "metadata": {
        "id": "Fa1BYc_GRvAe"
      }
    },
    {
      "cell_type": "markdown",
      "source": [
        "3. What happens if an exception occurs inside a try block and there is no matching except block?"
      ],
      "metadata": {
        "id": "3ZbhE2BMR2ug"
      }
    },
    {
      "cell_type": "markdown",
      "source": [
        "If an exception occurs inside a try block and there is no matching except block to handle that specific type of exception, the program will terminate abruptly, and Python will display an error message known as a traceback."
      ],
      "metadata": {
        "id": "fxTflkZ8SDfJ"
      }
    },
    {
      "cell_type": "markdown",
      "source": [
        "The traceback will provide information about the unhandled exception, including the type of exception, the line number where the exception occurred, and the sequence of function calls that led to the exception."
      ],
      "metadata": {
        "id": "ghluCN8KSLBO"
      }
    },
    {
      "cell_type": "markdown",
      "source": [
        "4. What is the difference between using a bare except block and specifying a specific exception type?"
      ],
      "metadata": {
        "id": "WMvvu9lrSR2J"
      }
    },
    {
      "cell_type": "markdown",
      "source": [
        "The difference between using a bare except block and specifying a specific exception type lies in how they handle exceptions and the level of control they provide over error handling."
      ],
      "metadata": {
        "id": "rm2K3tZmSWFG"
      }
    },
    {
      "cell_type": "markdown",
      "source": [
        "**Bare except block:**"
      ],
      "metadata": {
        "id": "VWkJzJCtSiGA"
      }
    },
    {
      "cell_type": "markdown",
      "source": [
        "A bare except block is used to catch any type of exception. It does not specify a particular exception type and can catch all types of exceptions, including built-in exceptions and custom exceptions."
      ],
      "metadata": {
        "id": "U3rvpoadSw4t"
      }
    },
    {
      "cell_type": "markdown",
      "source": [
        "**Specific exception type:**"
      ],
      "metadata": {
        "id": "JpeezQIGS1X2"
      }
    },
    {
      "cell_type": "markdown",
      "source": [
        "Specifying a specific exception type in the except block allows you to catch and handle only the specified type of exception.\n",
        "\n",
        "It provides more precise error handling and makes it easier to understand and reason about the potential issues in your code. By handling specific exceptions, you can respond differently to different exceptional cases."
      ],
      "metadata": {
        "id": "vE24QQMQS4Mp"
      }
    },
    {
      "cell_type": "markdown",
      "source": [
        "5. Can you have nested try-except blocks in Python? If yes, then give an example."
      ],
      "metadata": {
        "id": "hmxM_eqzS8VJ"
      }
    },
    {
      "cell_type": "markdown",
      "source": [
        "Yes, we can have nested try-except blocks in Python.\n",
        "\n",
        "This means you can place one try-except block inside another to handle exceptions in a more granular way.\n",
        "\n",
        "Nested try-except blocks are useful when you need to handle exceptions at different levels of your code hierarchy, providing more fine-grained error handling."
      ],
      "metadata": {
        "id": "2Q7yqiG-TB5q"
      }
    },
    {
      "cell_type": "markdown",
      "source": [
        "Here's an example of nested try-except blocks:\n",
        "\n"
      ],
      "metadata": {
        "id": "0Mcmz8R-TPEj"
      }
    },
    {
      "cell_type": "code",
      "source": [
        "def divide_numbers(a, b):\n",
        "    try:\n",
        "        result = a / b\n",
        "    except ZeroDivisionError:\n",
        "        print(\"Cannot divide by zero.\")\n",
        "        result = None\n",
        "    return result\n",
        "\n",
        "try:\n",
        "    num1 = int(input(\"Enter the first number: \"))\n",
        "    try:\n",
        "        num2 = int(input(\"Enter the second number: \"))\n",
        "        result = divide_numbers(num1, num2)\n",
        "        if result is not None:\n",
        "            print(f\"Result of division: {result}\")\n",
        "    except ValueError:\n",
        "        print(\"Invalid input. Please enter an integer for the second number.\")\n",
        "except ValueError:\n",
        "    print(\"Invalid input. Please enter an integer for the first number.\")\n"
      ],
      "metadata": {
        "colab": {
          "base_uri": "https://localhost:8080/"
        },
        "id": "S9UyU-rNTTLM",
        "outputId": "7e0d2357-8c9f-44a5-f09a-733c54a809c5"
      },
      "execution_count": 1,
      "outputs": [
        {
          "output_type": "stream",
          "name": "stdout",
          "text": [
            "Enter the first number: 34\n",
            "Enter the second number: 0\n",
            "Cannot divide by zero.\n"
          ]
        }
      ]
    },
    {
      "cell_type": "markdown",
      "source": [
        "6. Can we use multiple exception blocks, if yes then give an example."
      ],
      "metadata": {
        "id": "a4v4iu8wTYNw"
      }
    },
    {
      "cell_type": "markdown",
      "source": [
        "Yes, we can use multiple except blocks in Python.\n",
        "\n",
        "This allows us to handle different types of exceptions in distinct ways. When an exception occurs, Python will search for the first matching except block and execute the code within that block."
      ],
      "metadata": {
        "id": "RlY1MVrmT46M"
      }
    },
    {
      "cell_type": "markdown",
      "source": [
        "Here's an example demonstrating the use of multiple except blocks:"
      ],
      "metadata": {
        "id": "t2hZe9NtUCnl"
      }
    },
    {
      "cell_type": "code",
      "source": [
        "def divide_numbers(a, b):\n",
        "    try:\n",
        "        result = a / b\n",
        "        return result\n",
        "    except ZeroDivisionError:\n",
        "        print(\"Cannot divide by zero.\")\n",
        "    except TypeError:\n",
        "        print(\"Invalid operand types for division.\")\n",
        "    except Exception as e:\n",
        "        print(f\"An unexpected error occurred: {e}\")\n",
        "\n",
        "# Example usage\n",
        "try:\n",
        "    num1 = int(input(\"Enter the first number: \"))\n",
        "    num2 = int(input(\"Enter the second number: \"))\n",
        "    result = divide_numbers(num1, num2)\n",
        "    print(f\"Result of division: {result}\")\n",
        "except ValueError:\n",
        "    print(\"Invalid input. Please enter integers.\")"
      ],
      "metadata": {
        "colab": {
          "base_uri": "https://localhost:8080/"
        },
        "id": "wF8WIfJZUG1H",
        "outputId": "eeac903a-dac7-4b24-c443-9c51ed814c93"
      },
      "execution_count": 2,
      "outputs": [
        {
          "output_type": "stream",
          "name": "stdout",
          "text": [
            "Enter the first number: 0\n",
            "Enter the second number: 34\n",
            "Result of division: 0.0\n"
          ]
        }
      ]
    },
    {
      "cell_type": "markdown",
      "source": [
        "7. Write the reason due to which following errors are raised:\n",
        "\n",
        "a. EOFError\n",
        "\n",
        "b. FloatingPointError\n",
        "\n",
        "c. IndexError\n",
        "\n",
        "d. MemoryError\n",
        "\n",
        "e. OverflowError\n",
        "\n",
        "f. TabError\n",
        "\n",
        "g. ValueError\n"
      ],
      "metadata": {
        "id": "8U4Zzc2SUFTb"
      }
    },
    {
      "cell_type": "markdown",
      "source": [
        "Here are the reasons due to which the following errors are raised in Python:"
      ],
      "metadata": {
        "id": "0Pw1bmo5UQqu"
      }
    },
    {
      "cell_type": "markdown",
      "source": [
        "a. EOFError: This error is raised when the input() function hits the end-of-file condition (EOF) without receiving any input. It usually occurs when the user unexpectedly terminates the input stream (e.g., by pressing Ctrl+D on Unix-based systems or Ctrl+Z on Windows)."
      ],
      "metadata": {
        "id": "pGvThO39UY4Q"
      }
    },
    {
      "cell_type": "markdown",
      "source": [
        "b. FloatingPointError: This error is raised when an arithmetic operation involving floating-point numbers results in an overflow, underflow, or other exceptional condition.\n",
        "\n"
      ],
      "metadata": {
        "id": "fHWajeyDUlOd"
      }
    },
    {
      "cell_type": "markdown",
      "source": [
        "c. IndexError: This error is raised when you try to access an element from a list, tuple, or string using an index that is out of range. For example, if the index is negative or greater than or equal to the length of the sequence.\n",
        "\n"
      ],
      "metadata": {
        "id": "TnS5ZNjHUuvH"
      }
    },
    {
      "cell_type": "markdown",
      "source": [
        "d. MemoryError: This error is raised when the Python interpreter runs out of memory and cannot allocate more space for an object.\n",
        "\n"
      ],
      "metadata": {
        "id": "eU_vZIYCUy5d"
      }
    },
    {
      "cell_type": "markdown",
      "source": [
        "e. OverflowError: This error is raised when an arithmetic operation results in a value that is too large to be represented by the Python data type. For example, when trying to calculate a value that exceeds the maximum value that can be stored.\n",
        "\n"
      ],
      "metadata": {
        "id": "-k7az8EWU2MJ"
      }
    },
    {
      "cell_type": "markdown",
      "source": [
        "f. TabError: This error is raised when there is an indentation-related issue, typically due to a mix of tabs and spaces in the code. Python requires consistent indentation (either all tabs or all spaces) to determine the block structure, and a mix of tabs and spaces can lead to this error.\n",
        "\n"
      ],
      "metadata": {
        "id": "Sow_LHmKU6IT"
      }
    },
    {
      "cell_type": "markdown",
      "source": [
        "g. ValueError: This error is raised when a function receives an argument of the correct type but with an inappropriate value. For example, passing a string that cannot be converted to an integer to the int() function."
      ],
      "metadata": {
        "id": "vc_022nKVAz0"
      }
    },
    {
      "cell_type": "markdown",
      "source": [
        "8. Write code for the following given scenario and add try-exception block to it.\n",
        "\n",
        "a. Program to divide two numbers\n",
        "\n",
        "b. Program to convert a string to an integer\n",
        "\n",
        "c. Program to access an element in a list\n",
        "\n",
        "d. Program to handle a specific exception\n",
        "\n",
        "e. Program to handle any exception"
      ],
      "metadata": {
        "id": "nZZeqOauVBx_"
      }
    },
    {
      "cell_type": "markdown",
      "source": [
        "a. Program to divide two numbers"
      ],
      "metadata": {
        "id": "T3VKtlggVLi-"
      }
    },
    {
      "cell_type": "code",
      "source": [
        "def divide_numbers(a, b):\n",
        "    try:\n",
        "        result = a / b\n",
        "        return result\n",
        "    except ZeroDivisionError:\n",
        "        print(\"Error: Cannot divide by zero.\")\n",
        "        return None\n",
        "\n",
        "num1 = 314.3\n",
        "num2 = 46.2\n",
        "result = divide_numbers(num1, num2)\n",
        "\n",
        "if result is not None:\n",
        "    print(f\"Result of division: {result}\")\n"
      ],
      "metadata": {
        "colab": {
          "base_uri": "https://localhost:8080/"
        },
        "id": "o5BaSGSnVKZq",
        "outputId": "cfcdbf7c-32f3-4acb-c1a6-0cd10728f2e3"
      },
      "execution_count": 3,
      "outputs": [
        {
          "output_type": "stream",
          "name": "stdout",
          "text": [
            "Result of division: 6.803030303030303\n"
          ]
        }
      ]
    },
    {
      "cell_type": "markdown",
      "source": [
        "b. Program to convert a string to an integer:"
      ],
      "metadata": {
        "id": "d98SOkddVVz_"
      }
    },
    {
      "cell_type": "code",
      "source": [
        "def convert_to_integer(s):\n",
        "    try:\n",
        "        num = int(s)\n",
        "        return num\n",
        "    except ValueError:\n",
        "        print(\"Error: Invalid input. Please enter an integer.\")\n",
        "        return None\n",
        "\n",
        "user_input = \"24\"\n",
        "\n",
        "result = convert_to_integer(user_input)\n",
        "\n",
        "if result is not None:\n",
        "    print(f\"Integer value: {result}\")\n"
      ],
      "metadata": {
        "colab": {
          "base_uri": "https://localhost:8080/"
        },
        "id": "D7F9zbDaVYyy",
        "outputId": "0e4e837e-b272-487b-990f-b2d8367ba543"
      },
      "execution_count": 4,
      "outputs": [
        {
          "output_type": "stream",
          "name": "stdout",
          "text": [
            "Integer value: 24\n"
          ]
        }
      ]
    },
    {
      "cell_type": "markdown",
      "source": [
        "c. Program to access an element in a list:"
      ],
      "metadata": {
        "id": "o0liJTwnVdyO"
      }
    },
    {
      "cell_type": "code",
      "source": [
        "def access_list_element(lst, index):\n",
        "    try:\n",
        "        value = lst[index]\n",
        "        return value\n",
        "    except IndexError:\n",
        "        print(\"Error: Index out of range.\")\n",
        "        return None\n",
        "\n",
        "my_list = [1, 2, 3, 4, 5]\n",
        "\n",
        "index = 6\n",
        "\n",
        "result = access_list_element(my_list, index)\n",
        "\n",
        "if result is not None:\n",
        "    print(f\"Value at index {index}: {result}\")\n"
      ],
      "metadata": {
        "colab": {
          "base_uri": "https://localhost:8080/"
        },
        "id": "fxlXw9mqVgod",
        "outputId": "588a2fe9-e023-4638-af8f-f205b8b7915a"
      },
      "execution_count": 5,
      "outputs": [
        {
          "output_type": "stream",
          "name": "stdout",
          "text": [
            "Error: Index out of range.\n"
          ]
        }
      ]
    },
    {
      "cell_type": "markdown",
      "source": [
        "d. Program to handle a specific exception:"
      ],
      "metadata": {
        "id": "5WFA49JHVisx"
      }
    },
    {
      "cell_type": "code",
      "source": [
        "try:\n",
        "    num = int(input(\"Enter a number: \"))\n",
        "    result = 10 / num\n",
        "    print(f\"Result: {result}\")\n",
        "except ValueError:\n",
        "    print(\"Error: Invalid input. Please enter an integer.\")\n",
        "except ZeroDivisionError:\n",
        "    print(\"Error: Cannot divide by zero.\")\n"
      ],
      "metadata": {
        "colab": {
          "base_uri": "https://localhost:8080/"
        },
        "id": "o1w_yNLcVl7h",
        "outputId": "0d6abc14-c862-4150-d589-bc846e72adb5"
      },
      "execution_count": 6,
      "outputs": [
        {
          "output_type": "stream",
          "name": "stdout",
          "text": [
            "Enter a number: wr\n",
            "Error: Invalid input. Please enter an integer.\n"
          ]
        }
      ]
    },
    {
      "cell_type": "markdown",
      "source": [
        "e. Program to handle any exception:"
      ],
      "metadata": {
        "id": "1S8icSt0VoMQ"
      }
    },
    {
      "cell_type": "code",
      "source": [
        "try:\n",
        "    num1 = int(input(\"Enter the first number: \"))\n",
        "    num2 = int(input(\"Enter the second number: \"))\n",
        "    result = num1 / num2\n",
        "    print(f\"Result of division: {result}\")\n",
        "except Exception as e:\n",
        "    print(f\"An unexpected error occurred: {e}\")\n"
      ],
      "metadata": {
        "colab": {
          "base_uri": "https://localhost:8080/"
        },
        "id": "rg6e46STVnoC",
        "outputId": "806233dc-1d27-43b1-df4a-78c6a8688a7d"
      },
      "execution_count": 7,
      "outputs": [
        {
          "output_type": "stream",
          "name": "stdout",
          "text": [
            "Enter the first number: 0\n",
            "Enter the second number: 13\n",
            "Result of division: 0.0\n"
          ]
        }
      ]
    }
  ]
}