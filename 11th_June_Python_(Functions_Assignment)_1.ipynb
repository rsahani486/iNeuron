{
  "nbformat": 4,
  "nbformat_minor": 0,
  "metadata": {
    "colab": {
      "provenance": [],
      "authorship_tag": "ABX9TyMlZ7objOxj4UEf+YS6P4ti",
      "include_colab_link": true
    },
    "kernelspec": {
      "name": "python3",
      "display_name": "Python 3"
    },
    "language_info": {
      "name": "python"
    }
  },
  "cells": [
    {
      "cell_type": "markdown",
      "metadata": {
        "id": "view-in-github",
        "colab_type": "text"
      },
      "source": [
        "<a href=\"https://colab.research.google.com/github/rsahani486/iNeuron/blob/main/11th_June_Python_(Functions_Assignment)_1.ipynb\" target=\"_parent\"><img src=\"https://colab.research.google.com/assets/colab-badge.svg\" alt=\"Open In Colab\"/></a>"
      ]
    },
    {
      "cell_type": "markdown",
      "source": [
        "1. What is a lambda function in Python, and how does it differ from a regular function?"
      ],
      "metadata": {
        "id": "_zoQsCNmiO8B"
      }
    },
    {
      "cell_type": "markdown",
      "source": [
        "* In Python, a lambda function is a small, anonymous function that can be defined inline without using a regular function definition.\n",
        "* It is also known as an anonymous function because it doesn't have a name associated with it.\n",
        "* Lambda functions are defined using the lambda keyword."
      ],
      "metadata": {
        "id": "1ilNzpIPiRRK"
      }
    },
    {
      "cell_type": "markdown",
      "source": [
        "Lambda functions differ from regular functions in a few key ways:"
      ],
      "metadata": {
        "id": "dZjMoVghi5Ws"
      }
    },
    {
      "cell_type": "markdown",
      "source": [
        "* Syntax: Lambda functions are defined using a more concise syntax, without the need for a def statement, function name, or return statement.\n",
        "* Function Name: Lambda functions are anonymous and do not have a name associated with them. They are defined and used inline at the point of invocation.\n",
        "* Size and Complexity: Lambda functions are typically used for simple, one-line expressions. They are limited in their functionality and are not suitable for more complex logic or multiple statements.\n",
        "* Scope: Lambda functions have access to the variables in the surrounding scope, just like regular functions. However, they are restricted to using only one expression and cannot contain multiple statements or define local variables using def."
      ],
      "metadata": {
        "id": "We2iUHDEjA7V"
      }
    },
    {
      "cell_type": "markdown",
      "source": [
        "2. Can a lambda function in Python have multiple arguments? If yes, how can you define and use\n",
        "them?"
      ],
      "metadata": {
        "id": "iKVnGafAjpFV"
      }
    },
    {
      "cell_type": "markdown",
      "source": [
        "Yes, a lambda function in Python can have multiple arguments."
      ],
      "metadata": {
        "id": "5iCQ2BpbjxM-"
      }
    },
    {
      "cell_type": "markdown",
      "source": [
        "Here's an example of a lambda function with multiple arguments:"
      ],
      "metadata": {
        "id": "5ZMmXtTsj8Aa"
      }
    },
    {
      "cell_type": "code",
      "source": [
        "addition = lambda x, y: x + y"
      ],
      "metadata": {
        "id": "Kmzpr9IOkBjW"
      },
      "execution_count": 1,
      "outputs": []
    },
    {
      "cell_type": "code",
      "source": [
        "result = addition(3, 5)\n",
        "print(result)  # Output: 8"
      ],
      "metadata": {
        "colab": {
          "base_uri": "https://localhost:8080/"
        },
        "id": "ARmtkD7kkHiX",
        "outputId": "d9df0c4a-b3ae-4167-8d9c-4b6dd893f08f"
      },
      "execution_count": 2,
      "outputs": [
        {
          "output_type": "stream",
          "name": "stdout",
          "text": [
            "8\n"
          ]
        }
      ]
    },
    {
      "cell_type": "markdown",
      "source": [
        "3. How are lambda functions typically used in Python? Provide an example use case."
      ],
      "metadata": {
        "id": "PbgOCXItkQQE"
      }
    },
    {
      "cell_type": "markdown",
      "source": [
        "* Lambda functions are typically used in Python when a small or as an argument to higher-order functions.\n",
        "* They are particularly useful in situations where defining a separate named function would be unnecessary or less readable."
      ],
      "metadata": {
        "id": "CBKOl4DlkRB4"
      }
    },
    {
      "cell_type": "markdown",
      "source": [
        "Here's an example use case to illustrate how lambda functions can be used effectively:"
      ],
      "metadata": {
        "id": "gwr0hWeglENb"
      }
    },
    {
      "cell_type": "code",
      "source": [
        "numbers = [1, 2, 3, 4, 5, 6, 7, 8, 9]\n",
        "\n",
        "# Filter out even numbers\n",
        "filtered_numbers = list(filter(lambda x: x % 2 != 0, numbers))\n",
        "\n",
        "# Double the remaining odd numbers\n",
        "doubled_numbers = list(map(lambda x: x * 2, filtered_numbers))\n",
        "\n",
        "print(doubled_numbers)"
      ],
      "metadata": {
        "colab": {
          "base_uri": "https://localhost:8080/"
        },
        "id": "ylXvhIoTlIlf",
        "outputId": "5bbed038-6a62-43cd-c452-c87f31d245be"
      },
      "execution_count": 3,
      "outputs": [
        {
          "output_type": "stream",
          "name": "stdout",
          "text": [
            "[2, 6, 10, 14, 18]\n"
          ]
        }
      ]
    },
    {
      "cell_type": "markdown",
      "source": [
        "4. What are the advantages and limitations of lambda functions compared to regular functions in\n",
        "Python?"
      ],
      "metadata": {
        "id": "vza2QEQjlo5X"
      }
    },
    {
      "cell_type": "markdown",
      "source": [
        "Lambda functions in Python have several advantages and limitations compared to regular functions. Let's explore them:"
      ],
      "metadata": {
        "id": "sp_kqxQolpa4"
      }
    },
    {
      "cell_type": "markdown",
      "source": [
        "**Advantages of Lambda Functions:**"
      ],
      "metadata": {
        "id": "31p5Ed__l6A7"
      }
    },
    {
      "cell_type": "markdown",
      "source": [
        "* Concise Syntax: Lambda functions have a compact syntax, allowing you to define small functions in a single line of code.\n",
        "* Anonymity: Lambda functions are anonymous, meaning they don't require a function name.\n",
        "* Readability: In some cases, using a lambda function inline can make the code more readable, especially when the logic is simple and self-contained.\n",
        "* Use with Higher-Order Functions: Lambda functions are often used with higher-order functions like map(), filter(), and reduce(). They can be passed directly as arguments, avoiding the need to define separate functions explicitly."
      ],
      "metadata": {
        "id": "M1MUEbv0l8bp"
      }
    },
    {
      "cell_type": "markdown",
      "source": [
        "**Limitations of Lambda Functions:**"
      ],
      "metadata": {
        "id": "ZSV9CaoPmLuj"
      }
    },
    {
      "cell_type": "markdown",
      "source": [
        "* Single Expression: Lambda functions are limited to a single expression. They cannot contain multiple statements or have complex logic within them.\n",
        "* Lack of Name: Lambda functions lack a descriptive name, which can make the code harder to understand and debug.\n",
        "* No Statements or Flow Control: Lambda functions can only contain expressions. They cannot include statements like print(), return, or flow control constructs such as if, for, or while loops. Regular functions are more flexible in this regard.\n",
        "* Limited Reusability: Lambda functions are typically used for short-lived operations and may not be suitable for reuse across different parts of your codebase. Regular functions, on the other hand, can be defined once and reused multiple times."
      ],
      "metadata": {
        "id": "eIhZOmiemo7q"
      }
    },
    {
      "cell_type": "markdown",
      "source": [
        "5. Are lambda functions in Python able to access variables defined outside of their own scope?\n",
        "Explain with an example."
      ],
      "metadata": {
        "id": "0qa14US1m7lN"
      }
    },
    {
      "cell_type": "markdown",
      "source": [
        "Yes, lambda functions in Python have access to variables defined outside of their own scope."
      ],
      "metadata": {
        "id": "RU5L6bkdm__2"
      }
    },
    {
      "cell_type": "markdown",
      "source": [
        "Here's an example to demonstrate how lambda functions can access variables from the enclosing scope:"
      ],
      "metadata": {
        "id": "zDfqfJEAn9kI"
      }
    },
    {
      "cell_type": "code",
      "source": [
        "def outer_function():\n",
        "    x = 10\n",
        "    inner_function = lambda y: x + y\n",
        "    return inner_function\n",
        "\n",
        "closure = outer_function()\n",
        "result = closure(5)\n",
        "print(result)  # Output: 15"
      ],
      "metadata": {
        "colab": {
          "base_uri": "https://localhost:8080/"
        },
        "id": "djiZxI9qnqjg",
        "outputId": "df1222f3-e6c6-4ffd-ca95-7e96e5a11ec6"
      },
      "execution_count": 4,
      "outputs": [
        {
          "output_type": "stream",
          "name": "stdout",
          "text": [
            "15\n"
          ]
        }
      ]
    },
    {
      "cell_type": "markdown",
      "source": [
        "6. Write a lambda function to calculate the square of a given number."
      ],
      "metadata": {
        "id": "PzlsxnB5ndZj"
      }
    },
    {
      "cell_type": "code",
      "source": [
        "square = lambda x: x ** 2"
      ],
      "metadata": {
        "id": "QlpfCFj6oBxD"
      },
      "execution_count": 5,
      "outputs": []
    },
    {
      "cell_type": "code",
      "source": [
        "result = square(5)\n",
        "print(result)  # Output: 25"
      ],
      "metadata": {
        "colab": {
          "base_uri": "https://localhost:8080/"
        },
        "id": "44GJNSTnUmL-",
        "outputId": "92bbc47b-99e4-4e79-a409-e9f3bd07baae"
      },
      "execution_count": 6,
      "outputs": [
        {
          "output_type": "stream",
          "name": "stdout",
          "text": [
            "25\n"
          ]
        }
      ]
    },
    {
      "cell_type": "markdown",
      "source": [
        "7. Create a lambda function to find the maximum value in a list of integers."
      ],
      "metadata": {
        "id": "x8nNsPFzUqxG"
      }
    },
    {
      "cell_type": "code",
      "source": [
        "find_max = lambda lst: max(lst)"
      ],
      "metadata": {
        "id": "BJmzbKkJUn76"
      },
      "execution_count": 7,
      "outputs": []
    },
    {
      "cell_type": "code",
      "source": [
        "my_list = [4, 2, 9, 5, 1]\n",
        "result = find_max(my_list)\n",
        "print(result)  # Output: 9"
      ],
      "metadata": {
        "colab": {
          "base_uri": "https://localhost:8080/"
        },
        "id": "dIYt6L09Uwh-",
        "outputId": "2c56c1b9-c8f7-499b-9d53-9a65fa43a6c1"
      },
      "execution_count": 8,
      "outputs": [
        {
          "output_type": "stream",
          "name": "stdout",
          "text": [
            "9\n"
          ]
        }
      ]
    },
    {
      "cell_type": "markdown",
      "source": [
        "8. Implement a lambda function to filter out all the even numbers from a list of integers."
      ],
      "metadata": {
        "id": "aB8rv1WMU2Os"
      }
    },
    {
      "cell_type": "code",
      "source": [
        "filter_even = lambda lst: list(filter(lambda x: x % 2 != 0, lst))"
      ],
      "metadata": {
        "id": "pLXwURNOUyly"
      },
      "execution_count": 9,
      "outputs": []
    },
    {
      "cell_type": "code",
      "source": [
        "my_list = [4, 2, 9, 5, 1, 6, 8, 3]\n",
        "result = filter_even(my_list)\n",
        "print(result)"
      ],
      "metadata": {
        "colab": {
          "base_uri": "https://localhost:8080/"
        },
        "id": "VUkliNdvVBoX",
        "outputId": "13c2d13d-c12a-45eb-ab24-d0558483a504"
      },
      "execution_count": 10,
      "outputs": [
        {
          "output_type": "stream",
          "name": "stdout",
          "text": [
            "[9, 5, 1, 3]\n"
          ]
        }
      ]
    },
    {
      "cell_type": "markdown",
      "source": [
        "9. Write a lambda function to sort a list of strings in ascending order based on the length of each\n",
        "string."
      ],
      "metadata": {
        "id": "vFg1LAknVIu4"
      }
    },
    {
      "cell_type": "code",
      "source": [
        "sort_by_length = lambda lst: sorted(lst, key=lambda s: len(s))"
      ],
      "metadata": {
        "id": "Uxo77oP1VG_Q"
      },
      "execution_count": 11,
      "outputs": []
    },
    {
      "cell_type": "code",
      "source": [
        "my_list = ['apple', 'banana', 'cherry', 'orange', 'grape']\n",
        "result = sort_by_length(my_list)\n",
        "print(result)  # Output: ['apple', 'grape', 'banana', 'cherry', 'orange']"
      ],
      "metadata": {
        "colab": {
          "base_uri": "https://localhost:8080/"
        },
        "id": "a3luLLViVQu6",
        "outputId": "20616fe9-a0e6-4aa9-a3cd-b9eedbdc2b0a"
      },
      "execution_count": 12,
      "outputs": [
        {
          "output_type": "stream",
          "name": "stdout",
          "text": [
            "['apple', 'grape', 'banana', 'cherry', 'orange']\n"
          ]
        }
      ]
    },
    {
      "cell_type": "markdown",
      "source": [
        "10. Create a lambda function that takes two lists as input and returns a new list containing the\n",
        "common elements between the two lists."
      ],
      "metadata": {
        "id": "MTkA43cgVfFa"
      }
    },
    {
      "cell_type": "code",
      "source": [
        "find_common_elements = lambda lst1, lst2: list(filter(lambda x: x in lst2, lst1))"
      ],
      "metadata": {
        "id": "tc40XiXSVW2s"
      },
      "execution_count": 13,
      "outputs": []
    },
    {
      "cell_type": "code",
      "source": [
        "list1 = [1, 2, 3, 4, 5]\n",
        "list2 = [4, 5, 6, 7, 8]\n",
        "result = find_common_elements(list1, list2)\n",
        "print(result)  # Output: [4, 5]"
      ],
      "metadata": {
        "colab": {
          "base_uri": "https://localhost:8080/"
        },
        "id": "jQfaiiOMeYGj",
        "outputId": "adff66e5-676d-407f-d7e4-f3bf3ec08c8a"
      },
      "execution_count": 14,
      "outputs": [
        {
          "output_type": "stream",
          "name": "stdout",
          "text": [
            "[4, 5]\n"
          ]
        }
      ]
    },
    {
      "cell_type": "markdown",
      "source": [
        "11. Write a recursive function to calculate the factorial of a given positive integer."
      ],
      "metadata": {
        "id": "zTiTAXfKViL3"
      }
    },
    {
      "cell_type": "code",
      "source": [
        "def factorial(n):\n",
        "    if n == 0:\n",
        "        return 1\n",
        "    else:\n",
        "        return n * factorial(n - 1)"
      ],
      "metadata": {
        "id": "VArGRRH-VkXD"
      },
      "execution_count": 15,
      "outputs": []
    },
    {
      "cell_type": "code",
      "source": [
        "result = factorial(4)\n",
        "print(result)"
      ],
      "metadata": {
        "colab": {
          "base_uri": "https://localhost:8080/"
        },
        "id": "lDEyKxDbVs0V",
        "outputId": "da160970-d0b0-4649-f515-bca65505379f"
      },
      "execution_count": 16,
      "outputs": [
        {
          "output_type": "stream",
          "name": "stdout",
          "text": [
            "24\n"
          ]
        }
      ]
    },
    {
      "cell_type": "markdown",
      "source": [
        "12. Implement a recursive function to compute the nth Fibonacci number."
      ],
      "metadata": {
        "id": "aHmt1VavV6eC"
      }
    },
    {
      "cell_type": "code",
      "source": [
        "def fibonacci(n):\n",
        "    if n <= 0:\n",
        "        raise ValueError(\"n must be a positive integer.\")\n",
        "    elif n == 1 or n == 2:\n",
        "        return 1\n",
        "    else:\n",
        "        return fibonacci(n - 1) + fibonacci(n - 2)\n"
      ],
      "metadata": {
        "id": "Xl1I5EcLVych"
      },
      "execution_count": 17,
      "outputs": []
    },
    {
      "cell_type": "code",
      "source": [
        "result = fibonacci(8)\n",
        "print(result)  # Output: 21"
      ],
      "metadata": {
        "colab": {
          "base_uri": "https://localhost:8080/"
        },
        "id": "DLU9-D75XvIT",
        "outputId": "0f33411f-48ee-4743-a5c5-d0bc93acfaf1"
      },
      "execution_count": 18,
      "outputs": [
        {
          "output_type": "stream",
          "name": "stdout",
          "text": [
            "21\n"
          ]
        }
      ]
    },
    {
      "cell_type": "markdown",
      "source": [
        "13. Create a recursive function to find the sum of all the elements in a given list."
      ],
      "metadata": {
        "id": "wb9m27YGYDDb"
      }
    },
    {
      "cell_type": "code",
      "source": [
        "def recursive_sum(lst):\n",
        "    if not lst:\n",
        "        return 0\n",
        "    else:\n",
        "        return lst[0] + recursive_sum(lst[1:])"
      ],
      "metadata": {
        "id": "IyeskhHVX-X3"
      },
      "execution_count": 19,
      "outputs": []
    },
    {
      "cell_type": "code",
      "source": [
        "my_list = [1, 2, 3, 4, 5]\n",
        "result = recursive_sum(my_list)\n",
        "print(result)  # Output: 15"
      ],
      "metadata": {
        "colab": {
          "base_uri": "https://localhost:8080/"
        },
        "id": "JTKk4T9tdLnO",
        "outputId": "a2d6be2a-3588-4719-9a73-db7d36652a31"
      },
      "execution_count": 20,
      "outputs": [
        {
          "output_type": "stream",
          "name": "stdout",
          "text": [
            "15\n"
          ]
        }
      ]
    },
    {
      "cell_type": "markdown",
      "source": [
        "14. Write a recursive function to determine whether a given string is a palindrome."
      ],
      "metadata": {
        "id": "teWxc-1VdQ75"
      }
    },
    {
      "cell_type": "code",
      "source": [
        "def is_palindrome(string):\n",
        "    if len(string) <= 1:\n",
        "        return True\n",
        "    elif string[0] != string[-1]:\n",
        "        return False\n",
        "    else:\n",
        "        return is_palindrome(string[1:-1])"
      ],
      "metadata": {
        "id": "rmfmp5zFdMkF"
      },
      "execution_count": 21,
      "outputs": []
    },
    {
      "cell_type": "code",
      "source": [
        "result1 = is_palindrome(\"radar\")\n",
        "print(result1)  # Output: True\n",
        "\n",
        "result2 = is_palindrome(\"hello\")\n",
        "print(result2)  # Output: False"
      ],
      "metadata": {
        "colab": {
          "base_uri": "https://localhost:8080/"
        },
        "id": "nj8MKzDCdV6a",
        "outputId": "a3b65c07-221a-4747-ac8a-f373b68bdb5d"
      },
      "execution_count": 22,
      "outputs": [
        {
          "output_type": "stream",
          "name": "stdout",
          "text": [
            "True\n",
            "False\n"
          ]
        }
      ]
    },
    {
      "cell_type": "markdown",
      "source": [
        "15. Implement a recursive function to find the greatest common divisor (GCD) of two positive integers."
      ],
      "metadata": {
        "id": "YBhrCQvzd-QL"
      }
    },
    {
      "cell_type": "code",
      "source": [
        "def gcd(a, b):\n",
        "    if b == 0:\n",
        "        return a\n",
        "    else:\n",
        "        return gcd(b, a % b)"
      ],
      "metadata": {
        "id": "X3-kbZladjrO"
      },
      "execution_count": 23,
      "outputs": []
    },
    {
      "cell_type": "code",
      "source": [
        "result1 = gcd(12, 18)\n",
        "print(result1)  # Output: 6\n",
        "\n",
        "result2 = gcd(48, 60)\n",
        "print(result2)  # Output: 12"
      ],
      "metadata": {
        "colab": {
          "base_uri": "https://localhost:8080/"
        },
        "id": "sxBuCLxpeFOJ",
        "outputId": "7f3bcd8f-73de-4912-82a9-c8d5bd08dc97"
      },
      "execution_count": 24,
      "outputs": [
        {
          "output_type": "stream",
          "name": "stdout",
          "text": [
            "6\n",
            "12\n"
          ]
        }
      ]
    }
  ]
}