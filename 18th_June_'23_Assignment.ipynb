{
  "nbformat": 4,
  "nbformat_minor": 0,
  "metadata": {
    "colab": {
      "provenance": [],
      "authorship_tag": "ABX9TyPmjnIsCJ7p/oW7FADd4/UK",
      "include_colab_link": true
    },
    "kernelspec": {
      "name": "python3",
      "display_name": "Python 3"
    },
    "language_info": {
      "name": "python"
    }
  },
  "cells": [
    {
      "cell_type": "markdown",
      "metadata": {
        "id": "view-in-github",
        "colab_type": "text"
      },
      "source": [
        "<a href=\"https://colab.research.google.com/github/rsahani486/iNeuron/blob/main/18th_June_'23_Assignment.ipynb\" target=\"_parent\"><img src=\"https://colab.research.google.com/assets/colab-badge.svg\" alt=\"Open In Colab\"/></a>"
      ]
    },
    {
      "cell_type": "markdown",
      "source": [
        "1. What is the role of the 'else' block in a try-except statement? Provide an example scenario where it would be useful."
      ],
      "metadata": {
        "id": "MWDLUCDkW__G"
      }
    },
    {
      "cell_type": "markdown",
      "source": [
        "The else block in a try-except statement is optional and provides a way to specify a block of code that should be executed if no exception occurs in the corresponding try block. In other words, the code inside the else block will run only if there are no exceptions raised in the try block."
      ],
      "metadata": {
        "id": "Z77zchNvXEI_"
      }
    },
    {
      "cell_type": "markdown",
      "source": [
        "Here's an example scenario where the else block would be useful:"
      ],
      "metadata": {
        "id": "uYUHbQsqXU7D"
      }
    },
    {
      "cell_type": "code",
      "source": [
        "def divide_numbers(a, b):\n",
        "    try:\n",
        "        result = a / b\n",
        "    except ZeroDivisionError:\n",
        "        print(\"Cannot divide by zero.\")\n",
        "    else:\n",
        "        print(f\"Result of division: {result}\")\n",
        "\n",
        "num1 = 24\n",
        "num2 = 0\n",
        "\n",
        "divide_numbers(num1, num2)"
      ],
      "metadata": {
        "colab": {
          "base_uri": "https://localhost:8080/"
        },
        "id": "bBOq_8tDXX4-",
        "outputId": "034b50cc-3a7e-4087-c493-6eb8718539e9"
      },
      "execution_count": 1,
      "outputs": [
        {
          "output_type": "stream",
          "name": "stdout",
          "text": [
            "Cannot divide by zero.\n"
          ]
        }
      ]
    },
    {
      "cell_type": "markdown",
      "source": [
        "2. Can a try-except block be nested inside another try-except block? Explain with an example."
      ],
      "metadata": {
        "id": "1na4scB8XXl6"
      }
    },
    {
      "cell_type": "markdown",
      "source": [
        "Yes, a try-except block can be nested inside another try-except block.\n",
        "\n",
        "This means that you can place one try-except block inside another, allowing you to handle exceptions at different levels of code execution in a more granular way."
      ],
      "metadata": {
        "id": "KQ-DZEgsXjw1"
      }
    },
    {
      "cell_type": "markdown",
      "source": [
        "Here's an example to demonstrate nesting of try-except blocks:"
      ],
      "metadata": {
        "id": "L2Etu4bOXqdG"
      }
    },
    {
      "cell_type": "code",
      "source": [
        "def divide_numbers(a, b):\n",
        "    try:\n",
        "        result = a / b\n",
        "        return result\n",
        "    except ZeroDivisionError:\n",
        "        print(\"Cannot divide by zero.\")\n",
        "        return None\n",
        "\n",
        "def perform_operation(num1, num2):\n",
        "    try:\n",
        "        result = divide_numbers(num1, num2)\n",
        "        print(f\"Result of division: {result}\")\n",
        "    except ValueError:\n",
        "        print(\"Invalid input. Please enter valid numbers.\")\n",
        "    except Exception as e:\n",
        "        print(f\"An unexpected error occurred: {e}\")\n",
        "\n",
        "try:\n",
        "    num1 = float(input(\"Enter the first number: \"))\n",
        "    num2 = float(input(\"Enter the second number: \"))\n",
        "    perform_operation(num1, num2)\n",
        "except ValueError:\n",
        "    print(\"Invalid input. Please enter valid numbers.\")"
      ],
      "metadata": {
        "colab": {
          "base_uri": "https://localhost:8080/"
        },
        "id": "vdilswieXtJU",
        "outputId": "33461f09-1853-41fd-9a82-fcbdf8b32e1b"
      },
      "execution_count": 2,
      "outputs": [
        {
          "output_type": "stream",
          "name": "stdout",
          "text": [
            "Enter the first number: 57\n",
            "Enter the second number: -\n",
            "Invalid input. Please enter valid numbers.\n"
          ]
        }
      ]
    },
    {
      "cell_type": "markdown",
      "source": [
        "In this example, we have two functions: divide_numbers and perform_operation. The divide_numbers function attempts to divide a by b, and it has an inner try-except block to handle the ZeroDivisionError when the second number (b) is zero."
      ],
      "metadata": {
        "id": "gGSBTFD5XyQV"
      }
    },
    {
      "cell_type": "markdown",
      "source": [
        "3. How can you create a custom exception class in Python? Provide an example that demonstrates its usage."
      ],
      "metadata": {
        "id": "3CJVlIk2XzPO"
      }
    },
    {
      "cell_type": "markdown",
      "source": [
        "You can create a custom exception class in Python by defining a new class that inherits from the built-in Exception class or any other existing exception class."
      ],
      "metadata": {
        "id": "sJbrTh4rX5YQ"
      }
    },
    {
      "cell_type": "code",
      "source": [
        "class InvalidInputError(Exception):\n",
        "    def __init__(self, message):\n",
        "        super().__init__(message)\n",
        "\n",
        "def divide_numbers(a, b):\n",
        "    if b == 0:\n",
        "        raise InvalidInputError(\"Cannot divide by zero.\")\n",
        "    return a / b\n",
        "\n",
        "try:\n",
        "    num1 = float(input(\"Enter the first number: \"))\n",
        "    num2 = float(input(\"Enter the second number: \"))\n",
        "    result = divide_numbers(num1, num2)\n",
        "    print(f\"Result of division: {result}\")\n",
        "except ValueError:\n",
        "    print(\"Invalid input. Please enter valid numbers.\")\n",
        "except InvalidInputError as e:\n",
        "    print(f\"Error: {e}\")\n"
      ],
      "metadata": {
        "colab": {
          "base_uri": "https://localhost:8080/"
        },
        "id": "OeDvdpvRYgGw",
        "outputId": "6868e5c5-1857-4b74-e420-2a8be9632784"
      },
      "execution_count": 3,
      "outputs": [
        {
          "output_type": "stream",
          "name": "stdout",
          "text": [
            "Enter the first number: 63\n",
            "Enter the second number: 0\n",
            "Error: Cannot divide by zero.\n"
          ]
        }
      ]
    },
    {
      "cell_type": "markdown",
      "source": [
        "In this example, we create a custom exception class called InvalidInputError that inherits from the base Exception class.\n",
        "\n",
        "The __init__ method is overridden to allow us to pass a custom error message when raising this exception."
      ],
      "metadata": {
        "id": "i65f94aaYHuM"
      }
    },
    {
      "cell_type": "markdown",
      "source": [
        "4. What are some common exceptions that are built-in to Python?"
      ],
      "metadata": {
        "id": "svHgBmUFYlaR"
      }
    },
    {
      "cell_type": "markdown",
      "source": [
        "Python comes with a variety of built-in exceptions that cover common error scenarios.\n",
        "\n",
        "Some of the most common built-in exceptions in Python include:"
      ],
      "metadata": {
        "id": "re2B-iCwYo4u"
      }
    },
    {
      "cell_type": "markdown",
      "source": [
        "* SyntaxError: Raised when there is a syntax error in the code, such as invalid Python syntax.\n",
        "\n",
        "* IndentationError: Raised when there is an indentation-related issue, such as incorrect or inconsistent indentation.\n",
        "\n",
        "* NameError: Raised when a variable or name is not defined in the current scope.\n",
        "\n",
        "* TypeError: Raised when an operation or function is applied to an object of an inappropriate type.\n",
        "\n",
        "* ValueError: Raised when a function receives an argument of the correct type but with an inappropriate value.\n",
        "\n",
        "* ZeroDivisionError: Raised when attempting to divide by zero.\n",
        "\n",
        "* IndexError: Raised when trying to access an element from a list, tuple, or string using an invalid index.\n",
        "\n"
      ],
      "metadata": {
        "id": "5tk89nyfYweI"
      }
    },
    {
      "cell_type": "markdown",
      "source": [
        "5. What is logging in Python, and why is it important in software development?"
      ],
      "metadata": {
        "id": "uBCovk0MZBUt"
      }
    },
    {
      "cell_type": "markdown",
      "source": [
        "Logging in Python is a mechanism that allows developers to record and store information about the events and actions that occur during the execution of a program.\n",
        "\n",
        "It provides a way to track the flow of a program, monitor its behavior, and identify issues or errors that may occur during runtime."
      ],
      "metadata": {
        "id": "vsh22aGZZE-x"
      }
    },
    {
      "cell_type": "markdown",
      "source": [
        "Logging is important in software development for several reasons:"
      ],
      "metadata": {
        "id": "M9ZepPHsZNPq"
      }
    },
    {
      "cell_type": "markdown",
      "source": [
        "**Debugging and Troubleshooting**: During development and testing, developers can use logging to understand how their code executes, track variable values, and identify the cause of unexpected behavior. When an issue arises in a production environment, logs can help diagnose the problem and find the root cause quickly.\n",
        "\n"
      ],
      "metadata": {
        "id": "AUXYAAxkZQ1m"
      }
    },
    {
      "cell_type": "markdown",
      "source": [
        "**Monitoring and Performance Analysis**: In production systems, logging helps monitor the application's health and performance. Developers can track critical events and gather performance metrics to optimize the code or identify potential bottlenecks.\n",
        "\n"
      ],
      "metadata": {
        "id": "DaMWjr06ZcFJ"
      }
    },
    {
      "cell_type": "markdown",
      "source": [
        "**Error Reporting**: Logging allows developers to record errors and exceptions that occur during program execution. This information can be invaluable for detecting and addressing critical issues that affect the stability and reliability of the application.\n",
        "\n"
      ],
      "metadata": {
        "id": "DvIQnb5SZi4v"
      }
    },
    {
      "cell_type": "markdown",
      "source": [
        "**Feedback and Improvement**: When applications are deployed, logging can help collect feedback from users, identify common user issues, and improve the overall user experience."
      ],
      "metadata": {
        "id": "AG83WVB0Zobw"
      }
    },
    {
      "cell_type": "markdown",
      "source": [
        "6. Explain the purpose of log levels in Python logging and provide examples of when each log level would be appropriate."
      ],
      "metadata": {
        "id": "4m4NFwbTZrsi"
      }
    },
    {
      "cell_type": "markdown",
      "source": [
        "In Python logging, log levels are used to categorize log messages based on their severity or importance.\n",
        "\n",
        "The logging module provides several built-in log levels, each representing a different level of severity."
      ],
      "metadata": {
        "id": "3ihXzJBWZxpz"
      }
    },
    {
      "cell_type": "markdown",
      "source": [
        "Here are the standard log levels in Python logging, in increasing order of severity:"
      ],
      "metadata": {
        "id": "tJ8UAdbhaOCU"
      }
    },
    {
      "cell_type": "markdown",
      "source": [
        "**DEBUG**: Used for very detailed information, typically useful only for debugging purposes. These messages are most verbose and usually disabled in production environments.\n",
        "\n",
        "**INFO**: Used to provide general information about the program's execution, such as important milestones or progress indicators. These messages are usually enabled in production but can be disabled to reduce log output.\n",
        "\n",
        "**WARNING**: Used to indicate potential issues that don't necessarily cause errors but may warrant attention. For example, a deprecated function is called or an incorrect configuration is detected.\n",
        "\n",
        "**ERROR**: Used to log errors that can affect the proper functioning of the program but do not lead to termination. Errors are usually recoverable.\n",
        "\n",
        "**CRITICAL**: Used to log critical errors that may lead to the termination of the program or may indicate severe issues. These messages require immediate attention."
      ],
      "metadata": {
        "id": "FmdS4_CkaTMc"
      }
    },
    {
      "cell_type": "markdown",
      "source": [
        "7. What are log formatters in Python logging, and how can you customise the log\n",
        "message format using formatters?"
      ],
      "metadata": {
        "id": "WlsX4_MGaoFu"
      }
    },
    {
      "cell_type": "markdown",
      "source": [
        "In Python logging, log formatters are used to define the layout and structure of log messages.\n",
        "\n",
        "They allow you to customize the format in which log records are displayed or written to different output destinations, such as a file, console, or network socket.\n",
        "\n",
        "Formatters provide a flexible way to control what information is included in each log message, such as the log level, timestamp, logger name, and the actual log message."
      ],
      "metadata": {
        "id": "6K3GyXjma4Xv"
      }
    },
    {
      "cell_type": "markdown",
      "source": [
        "Python's logging module provides a built-in Formatter class that allows you to specify the desired log message format. You can create an instance of the Formatter class and set it as the formatter for the log handler to apply the format to log records."
      ],
      "metadata": {
        "id": "qpfMLCooa6r5"
      }
    },
    {
      "cell_type": "markdown",
      "source": [
        "The Formatter class supports various format placeholders that can be used to include specific pieces of information in the log messages. Some commonly used placeholders include:"
      ],
      "metadata": {
        "id": "kZ5mE5nVa_PF"
      }
    },
    {
      "cell_type": "markdown",
      "source": [
        "%(asctime)s: The timestamp of the log message.\n",
        "\n",
        "%(levelname)s: The log level (e.g., INFO, WARNING, ERROR).\n",
        "\n",
        "%(name)s: The name of the logger.\n",
        "\n",
        "%(message)s: The actual log message."
      ],
      "metadata": {
        "id": "XpR2reoubEO7"
      }
    },
    {
      "cell_type": "markdown",
      "source": [
        "8. How can you set up logging to capture log messages from multiple modules or\n",
        "classes in a Python application?"
      ],
      "metadata": {
        "id": "-R1gUzQxbHNn"
      }
    },
    {
      "cell_type": "markdown",
      "source": [
        "To capture log messages from multiple modules or classes in a Python application, you can set up a logging configuration that includes a shared logger that multiple modules can use.\n",
        "\n",
        "This allows you to centralize the log handling and have consistent logging behavior across different parts of the application."
      ],
      "metadata": {
        "id": "8wL0xaeDbM9y"
      }
    },
    {
      "cell_type": "markdown",
      "source": [
        "Here's how to set up logging to capture log messages from multiple modules or classes:\n",
        "\n"
      ],
      "metadata": {
        "id": "FE0LKx_kbSa7"
      }
    },
    {
      "cell_type": "markdown",
      "source": [
        "* Create a Central Logger:\n",
        "* Use the Central Logger in Other Modules:\n",
        "* Log Messages from Different Modules and Classes:"
      ],
      "metadata": {
        "id": "plojZWn8bUvK"
      }
    },
    {
      "cell_type": "markdown",
      "source": [
        "9. What is the difference between the logging and print statements in Python? When should you use logging over print statements in a real-world application?"
      ],
      "metadata": {
        "id": "xU7OvFaibqji"
      }
    },
    {
      "cell_type": "markdown",
      "source": [
        "The logging and print statements in Python serve different purposes and have distinct use cases."
      ],
      "metadata": {
        "id": "UFnfKktTbwmN"
      }
    },
    {
      "cell_type": "markdown",
      "source": [
        "**Logging:**"
      ],
      "metadata": {
        "id": "aww3vq9Vb1ir"
      }
    },
    {
      "cell_type": "markdown",
      "source": [
        "The logging module is specifically designed for producing log messages for different log levels (e.g., debug, info, warning, error, critical).\n",
        "\n",
        "\n",
        "Log messages can be written to various output destinations, such as the console, files, network sockets, etc., based on the configured log handlers."
      ],
      "metadata": {
        "id": "9_JPeSKMb6sB"
      }
    },
    {
      "cell_type": "markdown",
      "source": [
        "**Print Statements:**"
      ],
      "metadata": {
        "id": "oGeMPp3kcDX3"
      }
    },
    {
      "cell_type": "markdown",
      "source": [
        "The print statement is used to display information directly to the console during program execution.\n",
        "\n",
        "\n",
        "Print statements are generally used for quick debugging or to see immediate output while developing the code."
      ],
      "metadata": {
        "id": "IJ_4ofDDcH-u"
      }
    },
    {
      "cell_type": "markdown",
      "source": [
        "When to Use Logging over Print Statements in a Real-World Application:"
      ],
      "metadata": {
        "id": "7pnV5Do6cMk3"
      }
    },
    {
      "cell_type": "markdown",
      "source": [
        "Logging is generally preferred over print statements in real-world applications for several reasons:\n",
        "\n",
        "* Debugging and Maintenance\n",
        "* Production Use\n",
        "* Structured Information\n",
        "* Performance Impact"
      ],
      "metadata": {
        "id": "W9lfYm9dcNXB"
      }
    },
    {
      "cell_type": "markdown",
      "source": [
        "10. Write a Python program that logs a message to a file named \"app.log\" with the following requirements:\n",
        "\n",
        "● The log message should be \"Hello, World!\"\n",
        "\n",
        "● The log level should be set to \"INFO.\"\n",
        "\n",
        "● The log file should append new log entries without overwriting previous ones."
      ],
      "metadata": {
        "id": "tPm-v0bbccE0"
      }
    },
    {
      "cell_type": "markdown",
      "source": [
        "To achieve the requirements stated, we can use Python's logging module to set up a logger that writes log messages to the \"app.log\" file with the specified log level and file mode."
      ],
      "metadata": {
        "id": "TpU0CHWWciVc"
      }
    },
    {
      "cell_type": "markdown",
      "source": [
        "Here's a Python program that logs the \"Hello, World!\" message with an \"INFO\" log level to the \"app.log\" file:"
      ],
      "metadata": {
        "id": "h0kBhlJd5HqQ"
      }
    },
    {
      "cell_type": "code",
      "source": [
        "import logging\n",
        "\n",
        "# Create a logger\n",
        "logger = logging.getLogger('my_logger')\n",
        "logger.setLevel(logging.INFO)\n",
        "\n",
        "# Create a file handler with append mode\n",
        "file_handler = logging.FileHandler('app.log', mode='a')\n",
        "\n",
        "# Create a formatter\n",
        "formatter = logging.Formatter('%(asctime)s - %(levelname)s - %(message)s')\n",
        "file_handler.setFormatter(formatter)\n",
        "\n",
        "# Add the file handler to the logger\n",
        "logger.addHandler(file_handler)\n",
        "\n",
        "# Log the message\n",
        "logger.info('Hello, World!')\n"
      ],
      "metadata": {
        "colab": {
          "base_uri": "https://localhost:8080/"
        },
        "id": "RfeXSfup5Kf1",
        "outputId": "364d9a8e-ce9e-4e64-be17-1bd6bbe92ce5"
      },
      "execution_count": 4,
      "outputs": [
        {
          "output_type": "stream",
          "name": "stderr",
          "text": [
            "INFO:my_logger:Hello, World!\n"
          ]
        }
      ]
    },
    {
      "cell_type": "markdown",
      "source": [
        "In this program, we create a logger named \"my_logger\" and set its log level to \"INFO\" using setLevel(logging.INFO).\n",
        "\n",
        "We then create a FileHandler named \"file_handler\" and specify the file name as \"app.log\" and the mode as 'a' (append) using mode='a'.\n",
        "\n",
        " This ensures that new log entries will be appended to the existing file content without overwriting it."
      ],
      "metadata": {
        "id": "8fLrmwd_5NF1"
      }
    },
    {
      "cell_type": "markdown",
      "source": [
        "Next, we create a formatter using logging.Formatter and set it to the file handler using file_handler.setFormatter(formatter).\n",
        "\n",
        "The formatter specifies the format of the log message, including the timestamp, log level, and the actual log message."
      ],
      "metadata": {
        "id": "1DurBmlg5YTX"
      }
    },
    {
      "cell_type": "markdown",
      "source": [
        "Finally, we add the file handler to the logger using logger.addHandler(file_handler), and then we log the \"Hello, World!\" message with an \"INFO\" log level using logger.info('Hello, World!')."
      ],
      "metadata": {
        "id": "0acfVlY75fJ3"
      }
    },
    {
      "cell_type": "markdown",
      "source": [
        "11. Create a Python program that logs an error message to the console and a file named \"errors.log\" if an exception occurs during the program's execution. The error message should include the exception type and a timestamp."
      ],
      "metadata": {
        "id": "9-B_iJQ05f92"
      }
    },
    {
      "cell_type": "markdown",
      "source": [
        "To create a Python program that logs an error message to both the console and a file named \"errors.log\" when an exception occurs, we can use Python's logging module with a custom configuration that includes a file handler and a console handler."
      ],
      "metadata": {
        "id": "AujCwS0e5lv5"
      }
    },
    {
      "cell_type": "code",
      "source": [
        "import logging\n",
        "import sys\n",
        "import traceback\n",
        "from datetime import datetime\n",
        "\n",
        "def log_exception():\n",
        "    try:\n",
        "        # Your main program logic here\n",
        "        # For demonstration purposes, let's raise an exception\n",
        "        raise ValueError(\"This is a sample exception.\")\n",
        "\n",
        "    except Exception as e:\n",
        "        # Get the current timestamp\n",
        "        timestamp = datetime.now().strftime(\"%Y-%m-%d %H:%M:%S\")\n",
        "\n",
        "        # Log the exception to the console\n",
        "        print(f\"Error occurred at {timestamp}: {type(e).__name__}: {e}\")\n",
        "\n",
        "        # Log the exception to the \"errors.log\" file\n",
        "        with open(\"errors.log\", \"a\") as file:\n",
        "            file.write(f\"Error occurred at {timestamp}: {type(e).__name__}: {e}\\n\")\n",
        "            # Optionally, include the full traceback in the log\n",
        "            traceback.print_exc(file=file)\n",
        "\n",
        "if __name__ == \"__main__\":\n",
        "    # Configure the logging settings for the console\n",
        "    logging.basicConfig(level=logging.INFO, format=\"%(message)s\", stream=sys.stdout)\n",
        "\n",
        "    try:\n",
        "        log_exception()\n",
        "    except:\n",
        "        # If an exception occurs while logging the exception itself, print an error message to the console.\n",
        "        print(\"An error occurred while logging the exception.\")\n"
      ],
      "metadata": {
        "colab": {
          "base_uri": "https://localhost:8080/"
        },
        "id": "I_j6nGq677V1",
        "outputId": "28ac81e4-e312-4a30-c7b7-61da5d3a7b0d"
      },
      "execution_count": 5,
      "outputs": [
        {
          "output_type": "stream",
          "name": "stdout",
          "text": [
            "Error occurred at 2023-07-25 16:45:28: ValueError: This is a sample exception.\n"
          ]
        }
      ]
    },
    {
      "cell_type": "markdown",
      "source": [
        "In this program, we have a function log_exception() that represents the main logic of your program.\n",
        "\n",
        "For demonstration purposes, we raise a ValueError exception within this function. You can replace this part with your actual program logic."
      ],
      "metadata": {
        "id": "Ji9O33FX8CTl"
      }
    }
  ]
}