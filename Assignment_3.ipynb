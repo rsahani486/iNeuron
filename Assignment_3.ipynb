{
  "nbformat": 4,
  "nbformat_minor": 0,
  "metadata": {
    "colab": {
      "provenance": [],
      "authorship_tag": "ABX9TyOTJsbQ0zFIFDSxDGCPQ6Ac",
      "include_colab_link": true
    },
    "kernelspec": {
      "name": "python3",
      "display_name": "Python 3"
    },
    "language_info": {
      "name": "python"
    }
  },
  "cells": [
    {
      "cell_type": "markdown",
      "metadata": {
        "id": "view-in-github",
        "colab_type": "text"
      },
      "source": [
        "<a href=\"https://colab.research.google.com/github/rsahani486/iNeuron/blob/main/Assignment_3.ipynb\" target=\"_parent\"><img src=\"https://colab.research.google.com/assets/colab-badge.svg\" alt=\"Open In Colab\"/></a>"
      ]
    },
    {
      "cell_type": "markdown",
      "source": [
        "1. Why are functions advantageous to have in your programs?"
      ],
      "metadata": {
        "id": "10aAPgF_H5IZ"
      }
    },
    {
      "cell_type": "markdown",
      "source": [
        "Functions offer several advantages in programming. Here are some key reasons why functions are advantageous to have in your programs:"
      ],
      "metadata": {
        "id": "0mkqdaLeH71B"
      }
    },
    {
      "cell_type": "markdown",
      "source": [
        "* Reusability\n",
        "* Modularity\n",
        "* Abstraction\n",
        "* Code organization\n",
        "* Improved readability\n",
        "* Ease of testing and debugging\n",
        "* Performance optimization\n",
        "* Encapsulation"
      ],
      "metadata": {
        "id": "zbSFO-YTIhqS"
      }
    },
    {
      "cell_type": "markdown",
      "source": [
        "2. When does the code in a function run: when it&#39;s specified or when it&#39;s called?"
      ],
      "metadata": {
        "id": "YtV_BX_GJE3v"
      }
    },
    {
      "cell_type": "markdown",
      "source": [
        "The code in a function runs when the function is called, not when it is specified or defined. Defining a function simply creates the function object and defines its behavior, but the code within the function's body is not executed until the function is actually called."
      ],
      "metadata": {
        "id": "m91IfCMLJJfE"
      }
    },
    {
      "cell_type": "markdown",
      "source": [
        "3. What statement creates a function?"
      ],
      "metadata": {
        "id": "BiZZTsEoJ9fO"
      }
    },
    {
      "cell_type": "markdown",
      "source": [
        "In Python, the def statement is used to create a function. The def statement is followed by the function name, a pair of parentheses (), and a colon :\n",
        "\n",
        "The body of the function is indented below the def statement."
      ],
      "metadata": {
        "id": "24qGU5ILJjw4"
      }
    },
    {
      "cell_type": "markdown",
      "source": [
        "4. What is the difference between a function and a function call?"
      ],
      "metadata": {
        "id": "Yoi5m_igKFcJ"
      }
    },
    {
      "cell_type": "markdown",
      "source": [
        "In Python, a function and a function call are two related but distinct concepts."
      ],
      "metadata": {
        "id": "2XV0I57XJ7x_"
      }
    },
    {
      "cell_type": "markdown",
      "source": [
        "* Function: A function is a block of reusable code that is defined using the def statement."
      ],
      "metadata": {
        "id": "4bE1uUn5KtqU"
      }
    },
    {
      "cell_type": "markdown",
      "source": [
        "* Function call: A function call, also known as invoking or executing a function, is the act of using a function that has been defined in the code. When you call a function, you use the function name followed by parentheses ()."
      ],
      "metadata": {
        "id": "5J0AodJmKzIE"
      }
    },
    {
      "cell_type": "markdown",
      "source": [
        "5. How many global scopes are there in a Python program? How many local scopes?"
      ],
      "metadata": {
        "id": "C9TodTGtK53r"
      }
    },
    {
      "cell_type": "markdown",
      "source": [
        "Python program has one **global scope**, which is the outermost level of the program."
      ],
      "metadata": {
        "id": "1wMU8JUNLGSS"
      }
    },
    {
      "cell_type": "markdown",
      "source": [
        "**Local scopes** are created within functions, methods, or classes, and each local scope is specific to the function, method, or instance of a class."
      ],
      "metadata": {
        "id": "MPKh9CHkL7sh"
      }
    },
    {
      "cell_type": "markdown",
      "source": [
        "6. What happens to variables in a local scope when the function call returns?"
      ],
      "metadata": {
        "id": "E_6s5FakL8gV"
      }
    },
    {
      "cell_type": "markdown",
      "source": [
        "When a function call returns in Python, the local variables within the function's local scope are destroyed, and their values are no longer accessible."
      ],
      "metadata": {
        "id": "4C2W-kWGMUJW"
      }
    },
    {
      "cell_type": "markdown",
      "source": [
        "7. What is the concept of a return value? Is it possible to have a return value in an expression?"
      ],
      "metadata": {
        "id": "13kNxiO0Mtvp"
      }
    },
    {
      "cell_type": "markdown",
      "source": [
        "The concept of a return value in Python refers to the value that a function can send back to the code that called it. When a function is executed, it may perform certain computations or operations and produce a result."
      ],
      "metadata": {
        "id": "dC4NXVKUMyYZ"
      }
    },
    {
      "cell_type": "markdown",
      "source": [
        " yes, you can use a return value in an expression in Python, allowing you to build more complex logic and computations based on the values returned by functions."
      ],
      "metadata": {
        "id": "Wv3rgdDpNf4l"
      }
    },
    {
      "cell_type": "markdown",
      "source": [
        "8. If a function does not have a return statement, what is the return value of a call to that function?"
      ],
      "metadata": {
        "id": "6AHl7LcoNjEP"
      }
    },
    {
      "cell_type": "markdown",
      "source": [
        "None"
      ],
      "metadata": {
        "id": "tHD3jpYJNnqc"
      }
    },
    {
      "cell_type": "markdown",
      "source": [
        "9. How do you make a function variable refer to the global variable?"
      ],
      "metadata": {
        "id": "4pwQq1KjNzI1"
      }
    },
    {
      "cell_type": "markdown",
      "source": [
        "In Python, you can use the global keyword to indicate that a variable within a function should refer to the global variable with the same name. By using the global keyword, you can modify or access the value of a global variable from within a function."
      ],
      "metadata": {
        "id": "L5nYGSVlN7CZ"
      }
    },
    {
      "cell_type": "markdown",
      "source": [
        "10. What is the data type of None?"
      ],
      "metadata": {
        "id": "t-kb96WZOJbQ"
      }
    },
    {
      "cell_type": "markdown",
      "source": [
        " The data type of None is called **NoneType**."
      ],
      "metadata": {
        "id": "NiBZODIxOP-f"
      }
    },
    {
      "cell_type": "markdown",
      "source": [
        "11. What does the sentence import areallyourpetsnamederic do?"
      ],
      "metadata": {
        "id": "yKEN65oIOZsW"
      }
    },
    {
      "cell_type": "markdown",
      "source": [
        "The sentence \"import areallyourpetsnamederic\" does not have a standard meaning in Python. It is not a valid Python import statement."
      ],
      "metadata": {
        "id": "_zJi3jj0OkIo"
      }
    },
    {
      "cell_type": "markdown",
      "source": [
        "12. If you had a bacon() feature in a spam module, what would you call it after importing spam?"
      ],
      "metadata": {
        "id": "Tcx9Q_ugOxOm"
      }
    },
    {
      "cell_type": "markdown",
      "source": [
        "import spam\n",
        "\n",
        "spam.bacon()\n"
      ],
      "metadata": {
        "id": "PagY0WoGPE1w"
      }
    },
    {
      "cell_type": "markdown",
      "source": [
        "13. What can you do to save a programme from crashing if it encounters an error?"
      ],
      "metadata": {
        "id": "0amPvsIOPH59"
      }
    },
    {
      "cell_type": "markdown",
      "source": [
        "To prevent a program from crashing when it encounters an error we can use exception handling using the try and except statements."
      ],
      "metadata": {
        "id": "rLpicuNHPKj8"
      }
    },
    {
      "cell_type": "markdown",
      "source": [
        "14. What is the purpose of the try clause? What is the purpose of the except clause?"
      ],
      "metadata": {
        "id": "xOE3KlXkPt7M"
      }
    },
    {
      "cell_type": "markdown",
      "source": [
        "The **try block** is used to check some code for errors i.e the code inside the try block will execute when there is no error in the program."
      ],
      "metadata": {
        "id": "KYgZVcT-PyGi"
      }
    },
    {
      "cell_type": "markdown",
      "source": [
        "Whereas the code inside the **except** block will execute whenever the program encounters some error in the preceding try block.\n"
      ],
      "metadata": {
        "id": "wHMYSleTQNhx"
      }
    }
  ]
}