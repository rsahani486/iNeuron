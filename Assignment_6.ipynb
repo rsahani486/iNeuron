{
  "nbformat": 4,
  "nbformat_minor": 0,
  "metadata": {
    "colab": {
      "provenance": []
    },
    "kernelspec": {
      "name": "python3",
      "display_name": "Python 3"
    },
    "language_info": {
      "name": "python"
    }
  },
  "cells": [
    {
      "cell_type": "markdown",
      "source": [
        "Q.1. What are keywords in python? Using the keyword library, print all the python keywords."
      ],
      "metadata": {
        "id": "QfCA2uOpmP8-"
      }
    },
    {
      "cell_type": "markdown",
      "source": [
        "Keywords in python are reserved words that can not be used as ordinary identifiers"
      ],
      "metadata": {
        "id": "IX-29F7CmTdF"
      }
    },
    {
      "cell_type": "code",
      "source": [
        "import keyword\n",
        "print(keyword.kwlist)"
      ],
      "metadata": {
        "id": "WcoVIwPLmWgH",
        "colab": {
          "base_uri": "https://localhost:8080/"
        },
        "outputId": "0febb092-e0f2-4253-c69f-44daa29ab81b"
      },
      "execution_count": 1,
      "outputs": [
        {
          "output_type": "stream",
          "name": "stdout",
          "text": [
            "['False', 'None', 'True', 'and', 'as', 'assert', 'async', 'await', 'break', 'class', 'continue', 'def', 'del', 'elif', 'else', 'except', 'finally', 'for', 'from', 'global', 'if', 'import', 'in', 'is', 'lambda', 'nonlocal', 'not', 'or', 'pass', 'raise', 'return', 'try', 'while', 'with', 'yield']\n"
          ]
        }
      ]
    },
    {
      "cell_type": "markdown",
      "source": [
        "Q.2. What are the rules to create variables in python?"
      ],
      "metadata": {
        "id": "HneMlWOUmW7c"
      }
    },
    {
      "cell_type": "markdown",
      "source": [
        "* Variable name must start with a letter or the underscore character but cannot start with a number.\n",
        "* A variable name can only contain alpha-numeric characters and underscores (A-z, 0-9, and _ )\n",
        "* Variable names are case-sensitive.\n"
      ],
      "metadata": {
        "id": "7HYJF4JjmXyb"
      }
    },
    {
      "cell_type": "markdown",
      "source": [
        "Q.3. What are the standards and conventions followed for the nomenclature of variables in\n",
        "python to improve code readability and maintainability?"
      ],
      "metadata": {
        "id": "VLOSD7pXmYyZ"
      }
    },
    {
      "cell_type": "markdown",
      "source": [
        "The standards and conventions followed for the nomenclature of variables in python are below points.\n",
        "\n",
        "* Variable name must start with a letter or the underscore character but cannot start with a number.\n",
        "* A variable name can only contain alpha-numeric characters and underscores (A-z, 0-9, and _ )\n",
        "\n",
        "To improve code readability and maintainability below are the points.\n",
        "\n",
        "* We can use Camel-Casing to improve code readability\n",
        "* We can use comments for code maintainability."
      ],
      "metadata": {
        "id": "cnFuy8BAmbN0"
      }
    },
    {
      "cell_type": "markdown",
      "source": [
        "Q.4. What will happen if a keyword is used as a variable name?"
      ],
      "metadata": {
        "id": "jf33IzCymdUD"
      }
    },
    {
      "cell_type": "markdown",
      "source": [
        "It will throw below error.\n",
        "\n",
        "SyntaxError: invalid syntax"
      ],
      "metadata": {
        "id": "Tjsn5m8LmgKH"
      }
    },
    {
      "cell_type": "markdown",
      "source": [
        "Q.5. For what purpose def keyword is used?"
      ],
      "metadata": {
        "id": "SanqBBP0mga5"
      }
    },
    {
      "cell_type": "markdown",
      "source": [
        "Python def keyword is used to define a function, it is placed before a function name that is provided by the user to create a user-defined function."
      ],
      "metadata": {
        "id": "Yg_m_c0emkcW"
      }
    },
    {
      "cell_type": "markdown",
      "source": [
        "Q.6. What is the operation of this special character ‘\\’?"
      ],
      "metadata": {
        "id": "1Qr-R1eymoH9"
      }
    },
    {
      "cell_type": "markdown",
      "source": [
        "To insert characters that are illegal in a string, use an escape character.\n",
        "An escape character is a backslash \\ followed by the character you want to insert."
      ],
      "metadata": {
        "id": "FZ0ubc3mmpMc"
      }
    },
    {
      "cell_type": "markdown",
      "source": [
        "Q.7. Give an example of the following conditions:\n",
        "(i) Homogeneous list\n",
        "(ii) Heterogeneous set\n",
        "(iii) Homogeneous tuple"
      ],
      "metadata": {
        "id": "RJrQnmRvmrLn"
      }
    },
    {
      "cell_type": "markdown",
      "source": [
        "(i) Homogeneous list"
      ],
      "metadata": {
        "id": "Jt09hxZRw1YG"
      }
    },
    {
      "cell_type": "code",
      "source": [
        "numbers = [1, 2, 3, 4, 5]\n",
        "print(numbers)  \n"
      ],
      "metadata": {
        "id": "evB-biwdmsAq",
        "colab": {
          "base_uri": "https://localhost:8080/"
        },
        "outputId": "ca7ed9c6-b315-4325-e52c-51b0bb57ab11"
      },
      "execution_count": 2,
      "outputs": [
        {
          "output_type": "stream",
          "name": "stdout",
          "text": [
            "[1, 2, 3, 4, 5]\n"
          ]
        }
      ]
    },
    {
      "cell_type": "markdown",
      "source": [
        "(ii) Heterogeneous set"
      ],
      "metadata": {
        "id": "e1u61alJmsXe"
      }
    },
    {
      "cell_type": "code",
      "source": [
        "my_set = {1, 'apple', 3.14, (4, 5, 6)}\n",
        "print(my_set)  "
      ],
      "metadata": {
        "colab": {
          "base_uri": "https://localhost:8080/"
        },
        "id": "Z3_K-wboxBV7",
        "outputId": "c9dcdb20-a9b3-429d-b660-a3c1c2d07442"
      },
      "execution_count": 8,
      "outputs": [
        {
          "output_type": "stream",
          "name": "stdout",
          "text": [
            "{1, 3.14, 'apple', (4, 5, 6)}\n"
          ]
        }
      ]
    },
    {
      "cell_type": "markdown",
      "source": [
        "(iii) Homogeneous tuple"
      ],
      "metadata": {
        "id": "W0NePtehx-h1"
      }
    },
    {
      "cell_type": "code",
      "source": [
        "fruits = ('apple', 'banana', 'orange', 'kiwi')\n",
        "print(fruits)"
      ],
      "metadata": {
        "colab": {
          "base_uri": "https://localhost:8080/"
        },
        "id": "KlkFPTkEyAPX",
        "outputId": "24814aaf-ddd5-41fb-9d59-a9ab70d17504"
      },
      "execution_count": 9,
      "outputs": [
        {
          "output_type": "stream",
          "name": "stdout",
          "text": [
            "('apple', 'banana', 'orange', 'kiwi')\n"
          ]
        }
      ]
    },
    {
      "cell_type": "markdown",
      "source": [
        "Q.8. Explain the mutable and immutable data types with proper explanation & examples."
      ],
      "metadata": {
        "id": "IJqSYSL9ms-K"
      }
    },
    {
      "cell_type": "markdown",
      "source": [
        "In Python, data types can be classified as either mutable or immutable based on whether their values can be changed after they are created. Mutable data types allow modifications to their contents, while immutable data types do not."
      ],
      "metadata": {
        "id": "bN0MpgosnK9y"
      }
    },
    {
      "cell_type": "markdown",
      "source": [
        "1. Immutable Data Types:\n",
        "Immutable data types are those whose values cannot be changed after they are created. When you modify an immutable object, you actually create a new object with the modified value, rather than changing the existing one. Examples of immutable data types is below:"
      ],
      "metadata": {
        "id": "8GWWPFePvn5c"
      }
    },
    {
      "cell_type": "code",
      "source": [
        "t = (1, 2, 3)\n",
        "#t[0] = 4 # This will raise a TypeError because tuples are immutable\n",
        " "
      ],
      "metadata": {
        "id": "2-E_d1MInL_A"
      },
      "execution_count": 6,
      "outputs": []
    },
    {
      "cell_type": "markdown",
      "source": [
        "2. Mutable data types can be modified after they are created. When you make changes to a mutable object, the object itself is modified rather than creating a new one. Examples of mutable data types is below."
      ],
      "metadata": {
        "id": "alErVel_wKbc"
      }
    },
    {
      "cell_type": "code",
      "source": [
        "lst = [1, 2, 3]\n",
        "lst[0] = 4   # Modifies the first element of the list\n",
        "lst.append(5)  # Adds a new element to the list\n",
        "print(lst)   # Output: [4, 2, 3, 5]\n"
      ],
      "metadata": {
        "colab": {
          "base_uri": "https://localhost:8080/"
        },
        "id": "vCSnZuJdwSjN",
        "outputId": "bb90ae7d-5e39-4fa8-88d8-ad64d3ca090c"
      },
      "execution_count": 7,
      "outputs": [
        {
          "output_type": "stream",
          "name": "stdout",
          "text": [
            "[4, 2, 3, 5]\n"
          ]
        }
      ]
    },
    {
      "cell_type": "markdown",
      "source": [
        "Q.9. Write a code to create the given structure using only for loop."
      ],
      "metadata": {
        "id": "Zu7jpY_PnQPy"
      }
    },
    {
      "cell_type": "code",
      "source": [
        "row = 5\n",
        "space = row - 1\n",
        "pattern = 1\n",
        "for i in range(1, row + 1):\n",
        "    for j in range(1):\n",
        "        print(\" \" * space, end='')\n",
        "    for k in range(1):\n",
        "        print(\"*\" * pattern, end='')\n",
        "    space -= 1\n",
        "    pattern += 2\n",
        "    print()"
      ],
      "metadata": {
        "colab": {
          "base_uri": "https://localhost:8080/"
        },
        "id": "DPKArtZynRg3",
        "outputId": "c642830c-a565-459d-e250-3b6990075463"
      },
      "execution_count": null,
      "outputs": [
        {
          "output_type": "stream",
          "name": "stdout",
          "text": [
            "    *\n",
            "   ***\n",
            "  *****\n",
            " *******\n",
            "*********\n"
          ]
        }
      ]
    },
    {
      "cell_type": "markdown",
      "source": [
        "Q.10. Write a code to create the given structure using while loop."
      ],
      "metadata": {
        "id": "KkcYqM87nTUj"
      }
    },
    {
      "cell_type": "code",
      "source": [
        "row = 5\n",
        "space = 0\n",
        "pattern = (row * 2) - 1\n",
        "i = 1\n",
        "while i <= row:\n",
        "    while 1:\n",
        "        print(\" \" * space, end='')\n",
        "        break\n",
        "    while 1:\n",
        "        print(\"|\" * pattern, end='')\n",
        "        break\n",
        "    space += 1\n",
        "    pattern -= 2\n",
        "    i += 1\n",
        "    print()\n"
      ],
      "metadata": {
        "colab": {
          "base_uri": "https://localhost:8080/"
        },
        "id": "nI1jyIAlnT0d",
        "outputId": "c77f451f-f056-414e-e92b-d5167e53a41f"
      },
      "execution_count": null,
      "outputs": [
        {
          "output_type": "stream",
          "name": "stdout",
          "text": [
            "|||||||||\n",
            " |||||||\n",
            "  |||||\n",
            "   |||\n",
            "    |\n"
          ]
        }
      ]
    },
    {
      "cell_type": "code",
      "source": [],
      "metadata": {
        "id": "ComWxaOjtE1U"
      },
      "execution_count": null,
      "outputs": []
    }
  ]
}