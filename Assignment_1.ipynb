{
  "nbformat": 4,
  "nbformat_minor": 0,
  "metadata": {
    "colab": {
      "provenance": [],
      "authorship_tag": "ABX9TyPUQ9TIJLFxWXgSpOqHeCUI",
      "include_colab_link": true
    },
    "kernelspec": {
      "name": "python3",
      "display_name": "Python 3"
    },
    "language_info": {
      "name": "python"
    }
  },
  "cells": [
    {
      "cell_type": "markdown",
      "metadata": {
        "id": "view-in-github",
        "colab_type": "text"
      },
      "source": [
        "<a href=\"https://colab.research.google.com/github/rsahani486/iNeuron/blob/main/Assignment_1.ipynb\" target=\"_parent\"><img src=\"https://colab.research.google.com/assets/colab-badge.svg\" alt=\"Open In Colab\"/></a>"
      ]
    },
    {
      "cell_type": "markdown",
      "source": [
        "1. In the below elements which of them are values or an expression? eg:- values can be\n",
        "integer or string and expressions will be mathematical operators."
      ],
      "metadata": {
        "id": "hGB8a3Zu2HSb"
      }
    },
    {
      "cell_type": "code",
      "source": [
        "# *          # Expression\n",
        "\"hello\"      # Value\n",
        "-87.8        # Value\n",
        "-            # Expression\n",
        "# /          # Expression\n",
        "+            # Expression\n",
        "6            # Value"
      ],
      "metadata": {
        "id": "T5OUUvJU3jf3"
      },
      "execution_count": null,
      "outputs": []
    },
    {
      "cell_type": "markdown",
      "source": [
        "2. What is the difference between string and variable?"
      ],
      "metadata": {
        "id": "x33JkSsf53Rw"
      }
    },
    {
      "cell_type": "markdown",
      "source": [
        "**Variable**\n",
        "Variables are symbols that you can use to store data in a program. You can think of them as an empty box that you fill with some data or value."
      ],
      "metadata": {
        "id": "4fIY6WIO7Cqz"
      }
    },
    {
      "cell_type": "markdown",
      "source": [
        "**String**\n",
        "In python anything you assign to a variable using quotes (single or double) will be considered as a string. Thus, a string is one of several types of a variable."
      ],
      "metadata": {
        "id": "zAryGF0lUFOj"
      }
    },
    {
      "cell_type": "code",
      "source": [
        "a = 23 # Here a is an variable\n",
        "\"Hello world\" # Anything inside \"\" or ''(single or double) is an string.\n",
        "str = \"Hello world\" # Here we assigned string to a variabe str."
      ],
      "metadata": {
        "id": "8yAVNdwn6MKk"
      },
      "execution_count": null,
      "outputs": []
    },
    {
      "cell_type": "markdown",
      "source": [
        "3. Describe three different data types."
      ],
      "metadata": {
        "id": "EMP-2gxU7EgR"
      }
    },
    {
      "cell_type": "markdown",
      "source": [
        "* Integer (int): The integer data type represents whole numbers without any decimal points. For example, 5, -12, and 0 are all integers. Python allows you to perform arithmetic operations like addition, subtraction, multiplication, and division on integers."
      ],
      "metadata": {
        "id": "5IN_47OG7Ku5"
      }
    },
    {
      "cell_type": "markdown",
      "source": [
        "* Float (float): The float data type is used to represent numbers with decimal points. For example, 3.14, 2.5, and -0.75 are float values. Python supports mathematical operations on float values, including arithmetic calculations and functions like rounding, absolute value, and trigonometric functions."
      ],
      "metadata": {
        "id": "gg1BCOKa7OLn"
      }
    },
    {
      "cell_type": "markdown",
      "source": [
        "* String (str): The string data type represents a sequence of characters enclosed in quotation marks, either single (' ') or double (\" \"). Strings can contain letters, digits, symbols, and spaces. For example, \"Hello\", 'Python', and \"123\" are strings. Python provides various operations and methods to manipulate strings, such as concatenation, slicing, length calculation, and searching."
      ],
      "metadata": {
        "id": "1lTXq2vI7Or7"
      }
    },
    {
      "cell_type": "markdown",
      "source": [
        "4. What is an expression made up of? What do all expressions do?"
      ],
      "metadata": {
        "id": "UCKuNJq9WX6H"
      }
    },
    {
      "cell_type": "markdown",
      "source": [
        "An expression is any word or group of words or symbols that is a value. In\n",
        "programming, an expression is a value, or anything that executes and ends up being a value."
      ],
      "metadata": {
        "id": "-AosJF3KWa71"
      }
    },
    {
      "cell_type": "markdown",
      "source": [
        "The expression in Python produces some value or result after being interpreted by the Python interpreter"
      ],
      "metadata": {
        "id": "IbTk-TQdXNDj"
      }
    },
    {
      "cell_type": "markdown",
      "source": [
        "5. This assignment statements, like spam = 10. What is the difference between an\n",
        "expression and a statement?"
      ],
      "metadata": {
        "id": "nlF-3LPrXN9-"
      }
    },
    {
      "cell_type": "markdown",
      "source": [
        "An Expression always evaluates (calculate) to itself."
      ],
      "metadata": {
        "id": "699G1mjYXVUM"
      }
    },
    {
      "cell_type": "markdown",
      "source": [
        "**Evaluation of an expression** It simply means that, to calculate or to solve the value of something. Such as in the above example: z = x+y, which is equivalent to z = 5 + 3. So, here we are calculating the value of z. and, hence, z = 8."
      ],
      "metadata": {
        "id": "6zckvji3Xdsd"
      }
    },
    {
      "cell_type": "markdown",
      "source": [
        "**Statements** on the other hand, are everything that can make up a line (or severallines) of Python code.\n",
        "\n",
        "Note that expressions are statements as well."
      ],
      "metadata": {
        "id": "qvbV5nbUXrdz"
      }
    },
    {
      "cell_type": "code",
      "source": [
        "a = 25\n",
        "print(25)"
      ],
      "metadata": {
        "colab": {
          "base_uri": "https://localhost:8080/"
        },
        "id": "P8vAoqalX72A",
        "outputId": "c6703885-25b4-4bfb-95ce-7d7cf290b3bd"
      },
      "execution_count": 1,
      "outputs": [
        {
          "output_type": "stream",
          "name": "stdout",
          "text": [
            "25\n"
          ]
        }
      ]
    },
    {
      "cell_type": "markdown",
      "source": [
        "6. After running the following code, what does the variable bacon contain?\n",
        "bacon = 22\n",
        "bacon + 1"
      ],
      "metadata": {
        "id": "-RuU4Ur-YFON"
      }
    },
    {
      "cell_type": "code",
      "source": [
        "bacon = 22\n",
        "bacon +1"
      ],
      "metadata": {
        "colab": {
          "base_uri": "https://localhost:8080/"
        },
        "id": "vtdLAUFZYHA0",
        "outputId": "c4522183-f4ea-4cc2-d5f3-fbd9a3c346f7"
      },
      "execution_count": 2,
      "outputs": [
        {
          "output_type": "execute_result",
          "data": {
            "text/plain": [
              "23"
            ]
          },
          "metadata": {},
          "execution_count": 2
        }
      ]
    },
    {
      "cell_type": "markdown",
      "source": [
        "7. What should the values of the following two terms be?\n"
      ],
      "metadata": {
        "id": "wSId_F4TYWkM"
      }
    },
    {
      "cell_type": "code",
      "source": [
        "a = \"spam\" +\"spamspam\"\n",
        "b = \"spam\"*3\n",
        "print(a)\n",
        "print(b)"
      ],
      "metadata": {
        "colab": {
          "base_uri": "https://localhost:8080/"
        },
        "id": "fqXV2A78YQsY",
        "outputId": "bb4bb7c9-3ab1-4fde-e3fc-8b85f2199b11"
      },
      "execution_count": 4,
      "outputs": [
        {
          "output_type": "stream",
          "name": "stdout",
          "text": [
            "spamspamspam\n",
            "spamspamspam\n"
          ]
        }
      ]
    },
    {
      "cell_type": "markdown",
      "source": [
        "8. Why is eggs a valid variable name while 100 is invalid?"
      ],
      "metadata": {
        "id": "Gsebir9xYy71"
      }
    },
    {
      "cell_type": "markdown",
      "source": [
        "**eggs** is valid variable because it only contains alphabet"
      ],
      "metadata": {
        "id": "xk2en8JFY6Vd"
      }
    },
    {
      "cell_type": "markdown",
      "source": [
        "**100** is invalid because it starts with a number."
      ],
      "metadata": {
        "id": "gvYP-pbXZLFk"
      }
    },
    {
      "cell_type": "markdown",
      "source": [
        "9. What three functions can be used to get the integer, floating-point number, or string version of a value?"
      ],
      "metadata": {
        "id": "YOEAnBpAZUAw"
      }
    },
    {
      "cell_type": "markdown",
      "source": [
        "interger :- int()\n"
      ],
      "metadata": {
        "id": "Z4j46UYuZcqk"
      }
    },
    {
      "cell_type": "markdown",
      "source": [
        "floating point :- float()"
      ],
      "metadata": {
        "id": "yy-nCl-tZl_i"
      }
    },
    {
      "cell_type": "markdown",
      "source": [
        "string :- str()"
      ],
      "metadata": {
        "id": "M5P62YqSZm4G"
      }
    },
    {
      "cell_type": "markdown",
      "source": [
        "10. Why does this expression cause an error? How can you fix it?\n",
        "&#39;I have eaten &#39; + 99 + &#39; burritos.&#39;"
      ],
      "metadata": {
        "id": "ioYzxuJfZprS"
      }
    },
    {
      "cell_type": "markdown",
      "source": [
        "Here 99 is an integer and we cannot add integer with string\n",
        "\n",
        "For fixing this we convert 99 into string and then add. \n"
      ],
      "metadata": {
        "id": "-rzG8Oz4ZvRU"
      }
    },
    {
      "cell_type": "code",
      "source": [
        "'I have eaten ' + str(99)+' burritos'"
      ],
      "metadata": {
        "colab": {
          "base_uri": "https://localhost:8080/",
          "height": 35
        },
        "id": "zo7RgZL2Yrtm",
        "outputId": "27a17e72-3d2a-40e4-f537-2c1d5f463734"
      },
      "execution_count": 7,
      "outputs": [
        {
          "output_type": "execute_result",
          "data": {
            "text/plain": [
              "'I have eaten 99 burritos'"
            ],
            "application/vnd.google.colaboratory.intrinsic+json": {
              "type": "string"
            }
          },
          "metadata": {},
          "execution_count": 7
        }
      ]
    }
  ]
}