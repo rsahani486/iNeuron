{
  "nbformat": 4,
  "nbformat_minor": 0,
  "metadata": {
    "colab": {
      "provenance": [],
      "authorship_tag": "ABX9TyP1WLxrDXbYRe1O6STacpUe",
      "include_colab_link": true
    },
    "kernelspec": {
      "name": "python3",
      "display_name": "Python 3"
    },
    "language_info": {
      "name": "python"
    }
  },
  "cells": [
    {
      "cell_type": "markdown",
      "metadata": {
        "id": "view-in-github",
        "colab_type": "text"
      },
      "source": [
        "<a href=\"https://colab.research.google.com/github/rsahani486/iNeuron/blob/main/Assignment_5.ipynb\" target=\"_parent\"><img src=\"https://colab.research.google.com/assets/colab-badge.svg\" alt=\"Open In Colab\"/></a>"
      ]
    },
    {
      "cell_type": "markdown",
      "source": [
        "1. What does an empty dictionary&#39;s code look like?"
      ],
      "metadata": {
        "id": "DNyBG1ZQtPse"
      }
    },
    {
      "cell_type": "code",
      "source": [
        "dic = {}\n",
        "dic"
      ],
      "metadata": {
        "colab": {
          "base_uri": "https://localhost:8080/"
        },
        "id": "q1msHoX4t7Se",
        "outputId": "a805661a-f681-4204-fdf0-e09ec78ae3d0"
      },
      "execution_count": 1,
      "outputs": [
        {
          "output_type": "execute_result",
          "data": {
            "text/plain": [
              "{}"
            ]
          },
          "metadata": {},
          "execution_count": 1
        }
      ]
    },
    {
      "cell_type": "markdown",
      "source": [
        "2. What is the value of a dictionary value with the key &#39;foo&#39; and the value 42?"
      ],
      "metadata": {
        "id": "U7oOJzAOl03q"
      }
    },
    {
      "cell_type": "code",
      "source": [
        "my_dict = {'foo': 42}\n",
        "value = my_dict['foo']\n",
        "print(value)"
      ],
      "metadata": {
        "colab": {
          "base_uri": "https://localhost:8080/"
        },
        "id": "ybgLyahluCXK",
        "outputId": "99668992-2e67-420a-a9b1-98b13d5a7c59"
      },
      "execution_count": 2,
      "outputs": [
        {
          "output_type": "stream",
          "name": "stdout",
          "text": [
            "42\n"
          ]
        }
      ]
    },
    {
      "cell_type": "markdown",
      "source": [
        "3. What is the most significant distinction between a dictionary and a list?"
      ],
      "metadata": {
        "id": "9uTii01IugVU"
      }
    },
    {
      "cell_type": "markdown",
      "source": [
        "The most significant distinction between a dictionary and a list in Python is their underlying data structures and the way they store and access data.\n",
        "\n"
      ],
      "metadata": {
        "id": "ZNkBW79Ouhq_"
      }
    },
    {
      "cell_type": "markdown",
      "source": [
        "**Structure:**"
      ],
      "metadata": {
        "id": "wURGINh9u2tL"
      }
    },
    {
      "cell_type": "markdown",
      "source": [
        "* Dictionary: A dictionary is an unordered collection of key-value pairs. Each key is unique and associated with a value. Keys in a dictionary are used to retrieve their corresponding values."
      ],
      "metadata": {
        "id": "_XHIEI7au7p6"
      }
    },
    {
      "cell_type": "markdown",
      "source": [
        "* List: A list is an ordered collection of items. It can contain elements of different data types, and each item is assigned an index based on its position in the list."
      ],
      "metadata": {
        "id": "JdIyymLHvBAB"
      }
    },
    {
      "cell_type": "markdown",
      "source": [
        "4. What happens if you try to access spam[&#39;foo&#39;] if spam is {&#39;bar&#39;: 100}?"
      ],
      "metadata": {
        "id": "q6wmT11PvJO6"
      }
    },
    {
      "cell_type": "markdown",
      "source": [
        "If you try to access spam['foo'] with spam being {'bar': 100}, you will encounter a KeyError because the key 'foo' does not exist in the dictionary spam."
      ],
      "metadata": {
        "id": "dCuRoqa4vW6a"
      }
    },
    {
      "cell_type": "code",
      "source": [
        "spam = {'bar': 100}\n",
        "value = spam['foo']  # This line will raise a KeyError"
      ],
      "metadata": {
        "colab": {
          "base_uri": "https://localhost:8080/",
          "height": 190
        },
        "id": "qyEpCqBGvLFQ",
        "outputId": "8f0067bf-ef5b-4ad0-9c8c-0f88e0205ff3"
      },
      "execution_count": 3,
      "outputs": [
        {
          "output_type": "error",
          "ename": "KeyError",
          "evalue": "ignored",
          "traceback": [
            "\u001b[0;31m---------------------------------------------------------------------------\u001b[0m",
            "\u001b[0;31mKeyError\u001b[0m                                  Traceback (most recent call last)",
            "\u001b[0;32m<ipython-input-3-b2c499f58a98>\u001b[0m in \u001b[0;36m<cell line: 2>\u001b[0;34m()\u001b[0m\n\u001b[1;32m      1\u001b[0m \u001b[0mspam\u001b[0m \u001b[0;34m=\u001b[0m \u001b[0;34m{\u001b[0m\u001b[0;34m'bar'\u001b[0m\u001b[0;34m:\u001b[0m \u001b[0;36m100\u001b[0m\u001b[0;34m}\u001b[0m\u001b[0;34m\u001b[0m\u001b[0;34m\u001b[0m\u001b[0m\n\u001b[0;32m----> 2\u001b[0;31m \u001b[0mvalue\u001b[0m \u001b[0;34m=\u001b[0m \u001b[0mspam\u001b[0m\u001b[0;34m[\u001b[0m\u001b[0;34m'foo'\u001b[0m\u001b[0;34m]\u001b[0m  \u001b[0;31m# This line will raise a KeyError\u001b[0m\u001b[0;34m\u001b[0m\u001b[0;34m\u001b[0m\u001b[0m\n\u001b[0m",
            "\u001b[0;31mKeyError\u001b[0m: 'foo'"
          ]
        }
      ]
    },
    {
      "cell_type": "markdown",
      "source": [
        "5. If a dictionary is stored in spam, what is the difference between the expressions &#39;cat&#39; in spam and\n",
        "&#39;cat&#39; in spam.keys()?"
      ],
      "metadata": {
        "id": "xpLm2wjRveaX"
      }
    },
    {
      "cell_type": "markdown",
      "source": [
        "**'cat' in spam:**"
      ],
      "metadata": {
        "id": "oZ3_cr8Gvfd4"
      }
    },
    {
      "cell_type": "markdown",
      "source": [
        "This expression checks whether the key 'cat' exists in the dictionary spam."
      ],
      "metadata": {
        "id": "4K_FkNwhwRIA"
      }
    },
    {
      "cell_type": "markdown",
      "source": [
        "**'cat' in spam.keys():**"
      ],
      "metadata": {
        "id": "yQkKUWBVwYth"
      }
    },
    {
      "cell_type": "markdown",
      "source": [
        "This expression first calls the keys() method on the spam dictionary, which returns a list-like view object containing all the keys in the dictionary."
      ],
      "metadata": {
        "id": "fsiGAYvWwZ57"
      }
    },
    {
      "cell_type": "markdown",
      "source": [
        "6. If a dictionary is stored in spam, what is the difference between the expressions &#39;cat&#39; in spam and\n",
        "&#39;cat&#39; in spam.values()?"
      ],
      "metadata": {
        "id": "i2YI5AV5wcWz"
      }
    },
    {
      "cell_type": "markdown",
      "source": [
        "**'cat' in spam:**"
      ],
      "metadata": {
        "id": "GVUYMlzAwz01"
      }
    },
    {
      "cell_type": "markdown",
      "source": [
        "This expression checks whether the key 'cat' exists in the dictionary spam."
      ],
      "metadata": {
        "id": "ICsLjt-Hwz01"
      }
    },
    {
      "cell_type": "markdown",
      "source": [
        "**'cat' in spam.keys():**"
      ],
      "metadata": {
        "id": "ObRoHe8Xwz01"
      }
    },
    {
      "cell_type": "markdown",
      "source": [
        "This expression first calls the keys() method on the spam dictionary, which returns a list-like view object containing all the keys in the dictionary."
      ],
      "metadata": {
        "id": "lnQVh9K1wz01"
      }
    },
    {
      "cell_type": "markdown",
      "source": [
        "7. What is a shortcut for the following code?\n",
        "\n",
        "if &#39;color&#39; not in spam:\n",
        "\n",
        "spam[&#39;color&#39;] = &#39;black&#39;"
      ],
      "metadata": {
        "id": "jAMKjqknw2VZ"
      }
    },
    {
      "cell_type": "markdown",
      "source": [
        "**A shortcut for the given code**"
      ],
      "metadata": {
        "id": "_FjXk4h01Shl"
      }
    },
    {
      "cell_type": "markdown",
      "source": [
        "spam.setdefault('color', 'black')\n"
      ],
      "metadata": {
        "id": "F8RvuYaUw_yG"
      }
    },
    {
      "cell_type": "markdown",
      "source": [
        "In this code, if the key 'color' is not present in the dictionary spam, it will set the key 'color' with the value 'black'. If the key already exists, it will not modify the existing value."
      ],
      "metadata": {
        "id": "Sjr3Pbe01YB4"
      }
    },
    {
      "cell_type": "markdown",
      "source": [
        "8. How do you &quot;pretty print&quot; dictionary values using which module and function?"
      ],
      "metadata": {
        "id": "muQBDHOA1bUo"
      }
    },
    {
      "cell_type": "markdown",
      "source": [
        "To \"pretty print\" dictionary values in Python, you can make use of the pprint module, specifically the pprint function."
      ],
      "metadata": {
        "id": "5kKRo4cq1irh"
      }
    },
    {
      "cell_type": "code",
      "source": [
        "import pprint\n",
        "\n",
        "data = {'name': 'Abrar Ahmed', 'age': 20, 'address': {'street': 'East End', 'city': 'Bangalore', 'state': 'Karnataka'}}\n",
        "\n",
        "pprint.pprint(data)"
      ],
      "metadata": {
        "colab": {
          "base_uri": "https://localhost:8080/"
        },
        "id": "5dV1TWem2Gt_",
        "outputId": "77f0a6d2-d082-4cb0-b642-045d676ff10f"
      },
      "execution_count": 5,
      "outputs": [
        {
          "output_type": "stream",
          "name": "stdout",
          "text": [
            "{'address': {'city': 'Bangalore', 'state': 'Karnataka', 'street': 'East End'},\n",
            " 'age': 20,\n",
            " 'name': 'Abrar Ahmed'}\n"
          ]
        }
      ]
    }
  ]
}